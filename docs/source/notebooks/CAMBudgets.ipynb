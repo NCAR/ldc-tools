{
 "cells": [
  {
   "cell_type": "markdown",
   "metadata": {},
   "source": [
    "## Looking at CAM Budgets\n",
    "\n",
    "First we set up our environment as before:\n"
   ]
  },
  {
   "cell_type": "code",
   "execution_count": 1,
   "metadata": {},
   "outputs": [],
   "source": [
    "# !!! Make sure you are using the cmpi6-2019.10 kernel !!!!\n",
    "\n",
    "# Add ldcpy root to system path (MODIFY FOR YOUR LDCPY CODE LOCATION)\n",
    "import sys\n",
    "\n",
    "sys.path.insert(0, '/glade/u/home/abaker/repos/ldcpy')\n",
    "import ldcpy\n",
    "\n",
    "# Display output of plots directly in Notebook\n",
    "%matplotlib inline\n",
    "# Automatically reload module if it is editted\n",
    "%reload_ext autoreload\n",
    "%autoreload 2\n",
    "\n",
    "# silence warnings\n",
    "import warnings\n",
    "\n",
    "warnings.filterwarnings(\"ignore\")"
   ]
  },
  {
   "cell_type": "code",
   "execution_count": 2,
   "metadata": {},
   "outputs": [
    {
     "data": {
      "application/vnd.jupyter.widget-view+json": {
       "model_id": "d32d315a5d5c48e19edaea0591914247",
       "version_major": 2,
       "version_minor": 0
      },
      "text/plain": [
       "VBox(children=(HTML(value='<h2>PBSCluster</h2>'), HBox(children=(HTML(value='\\n<div>\\n  <style scoped>\\n    .d…"
      ]
     },
     "metadata": {},
     "output_type": "display_data"
    }
   ],
   "source": [
    "# for Cheyenne\n",
    "from dask_jobqueue import PBSCluster\n",
    "\n",
    "cluster = PBSCluster(\n",
    "    queue=\"regular\",\n",
    "    walltime=\"02:00:00\",\n",
    "    project=\"NIOW0001\",\n",
    "    memory=\"109GB\",\n",
    "    resource_spec=\"select=1:ncpus=9:mem=109GB\",\n",
    "    cores=36,\n",
    "    processes=9,\n",
    ")\n",
    "\n",
    "\n",
    "# scale as needed\n",
    "cluster.adapt(minimum_jobs=1, maximum_jobs=30)\n",
    "cluster"
   ]
  },
  {
   "cell_type": "markdown",
   "metadata": {},
   "source": [
    "Collections for variables needed for budgets\n"
   ]
  },
  {
   "cell_type": "code",
   "execution_count": 3,
   "metadata": {},
   "outputs": [
    {
     "data": {
      "text/html": [
       "<table style=\"border: 2px solid white;\">\n",
       "<tr>\n",
       "<td style=\"vertical-align: top; border: 0px solid white\">\n",
       "<h3 style=\"text-align: left;\">Client</h3>\n",
       "<ul style=\"text-align: left; list-style: none; margin: 0; padding: 0;\">\n",
       "  <li><b>Scheduler: </b>tcp://10.148.6.55:43163</li>\n",
       "  <li><b>Dashboard: </b><a href='https://jupyterhub.hpc.ucar.edu/stable/user/abaker/proxy/{port}/status' target='_blank'>https://jupyterhub.hpc.ucar.edu/stable/user/abaker/proxy/{port}/status</a></li>\n",
       "</ul>\n",
       "</td>\n",
       "<td style=\"vertical-align: top; border: 0px solid white\">\n",
       "<h3 style=\"text-align: left;\">Cluster</h3>\n",
       "<ul style=\"text-align: left; list-style:none; margin: 0; padding: 0;\">\n",
       "  <li><b>Workers: </b>0</li>\n",
       "  <li><b>Cores: </b>0</li>\n",
       "  <li><b>Memory: </b>0 B</li>\n",
       "</ul>\n",
       "</td>\n",
       "</tr>\n",
       "</table>"
      ],
      "text/plain": [
       "<Client: 'tcp://10.148.6.55:43163' processes=0 threads=0, memory=0 B>"
      ]
     },
     "execution_count": 3,
     "metadata": {},
     "output_type": "execute_result"
    }
   ],
   "source": [
    "from dask.distributed import Client\n",
    "\n",
    "# Connect client to the remote dask workers\n",
    "client = Client(cluster)\n",
    "client"
   ]
  },
  {
   "cell_type": "code",
   "execution_count": 6,
   "metadata": {},
   "outputs": [
    {
     "name": "stdout",
     "output_type": "stream",
     "text": [
      "dataset size in GB 0.07\n",
      "\n",
      "dataset size in GB 0.07\n",
      "\n",
      "dataset size in GB 0.07\n",
      "\n",
      "dataset size in GB 0.07\n",
      "\n",
      "dataset size in GB 0.07\n",
      "\n",
      "dataset size in GB 0.07\n",
      "\n",
      "dataset size in GB 0.07\n",
      "\n",
      "dataset size in GB 0.07\n",
      "\n",
      "dataset size in GB 0.07\n",
      "\n"
     ]
    }
   ],
   "source": [
    "fsnt_col = ldcpy.open_datasets(\n",
    "    \"cam-fv\",\n",
    "    [\"FSNT\"],\n",
    "    [\n",
    "        \"/glade/p/cisl/asap/CAM_lossy_test_data_31/orig/b.e11.BRCP85C5CNBDRD.f09_g16.031.cam.h0.FSNT.200601-201012.nc\",\n",
    "        \"/glade/p/cisl/asap/CAM_lossy_test_data_31/conservative/b.e11.BRCP85C5CNBDRD.f09_g16.031.cam.h0.FSNT.200601-201012.nc\",\n",
    "        \"/glade/p/cisl/asap/CAM_lossy_test_data_31/middle_ground/b.e11.BRCP85C5CNBDRD.f09_g16.031.cam.h0.FSNT.200601-201012.nc\",\n",
    "        \"/glade/p/cisl/asap/CAM_lossy_test_data_31/aggressive/b.e11.BRCP85C5CNBDRD.f09_g16.031.cam.h0.FSNT.200601-201012.nc\",\n",
    "        \"/glade/p/cisl/asap/CAM_lossy_test_data_31/extra_aggressive/b.e11.BRCP85C5CNBDRD.f09_g16.031.cam.h0.FSNT.200601-201012.nc\",\n",
    "    ],\n",
    "    [\"orig\", \"con\", \"mg\", \"agg\", \"xagg\"],\n",
    ")\n",
    "flnt_col = ldcpy.open_datasets(\n",
    "    \"cam-fv\",\n",
    "    [\"FLNT\"],\n",
    "    [\n",
    "        \"/glade/p/cisl/asap/CAM_lossy_test_data_31/orig/b.e11.BRCP85C5CNBDRD.f09_g16.031.cam.h0.FLNT.200601-201012.nc\",\n",
    "        \"/glade/p/cisl/asap/CAM_lossy_test_data_31/conservative/b.e11.BRCP85C5CNBDRD.f09_g16.031.cam.h0.FLNT.200601-201012.nc\",\n",
    "        \"/glade/p/cisl/asap/CAM_lossy_test_data_31/middle_ground/b.e11.BRCP85C5CNBDRD.f09_g16.031.cam.h0.FLNT.200601-201012.nc\",\n",
    "        \"/glade/p/cisl/asap/CAM_lossy_test_data_31/aggressive/b.e11.BRCP85C5CNBDRD.f09_g16.031.cam.h0.FLNT.200601-201012.nc\",\n",
    "        \"/glade/p/cisl/asap/CAM_lossy_test_data_31/extra_aggressive/b.e11.BRCP85C5CNBDRD.f09_g16.031.cam.h0.FLNT.200601-201012.nc\",\n",
    "    ],\n",
    "    [\"orig\", \"con\", \"mg\", \"agg\", \"xagg\"],\n",
    ")\n",
    "precc_col = ldcpy.open_datasets(\n",
    "    \"cam-fv\",\n",
    "    [\"PRECC\"],\n",
    "    [\n",
    "        \"/glade/p/cisl/asap/CAM_lossy_test_data_31/orig/b.e11.BRCP85C5CNBDRD.f09_g16.031.cam.h0.PRECC.200601-201012.nc\",\n",
    "        \"/glade/p/cisl/asap/CAM_lossy_test_data_31/conservative/b.e11.BRCP85C5CNBDRD.f09_g16.031.cam.h0.PRECC.200601-201012.nc\",\n",
    "        \"/glade/p/cisl/asap/CAM_lossy_test_data_31/middle_ground/b.e11.BRCP85C5CNBDRD.f09_g16.031.cam.h0.PRECC.200601-201012.nc\",\n",
    "        \"/glade/p/cisl/asap/CAM_lossy_test_data_31/aggressive/b.e11.BRCP85C5CNBDRD.f09_g16.031.cam.h0.PRECC.200601-201012.nc\",\n",
    "        \"/glade/p/cisl/asap/CAM_lossy_test_data_31/extra_aggressive/b.e11.BRCP85C5CNBDRD.f09_g16.031.cam.h0.PRECC.200601-201012.nc\",\n",
    "    ],\n",
    "    [\"orig\", \"con\", \"mg\", \"agg\", \"xagg\"],\n",
    ")\n",
    "precl_col = ldcpy.open_datasets(\n",
    "    \"cam-fv\",\n",
    "    [\"PRECL\"],\n",
    "    [\n",
    "        \"/glade/p/cisl/asap/CAM_lossy_test_data_31/orig/b.e11.BRCP85C5CNBDRD.f09_g16.031.cam.h0.PRECL.200601-201012.nc\",\n",
    "        \"/glade/p/cisl/asap/CAM_lossy_test_data_31/conservative/b.e11.BRCP85C5CNBDRD.f09_g16.031.cam.h0.PRECL.200601-201012.nc\",\n",
    "        \"/glade/p/cisl/asap/CAM_lossy_test_data_31/middle_ground/b.e11.BRCP85C5CNBDRD.f09_g16.031.cam.h0.PRECL.200601-201012.nc\",\n",
    "        \"/glade/p/cisl/asap/CAM_lossy_test_data_31/aggressive/b.e11.BRCP85C5CNBDRD.f09_g16.031.cam.h0.PRECL.200601-201012.nc\",\n",
    "        \"/glade/p/cisl/asap/CAM_lossy_test_data_31/extra_aggressive/b.e11.BRCP85C5CNBDRD.f09_g16.031.cam.h0.PRECL.200601-201012.nc\",\n",
    "    ],\n",
    "    [\"orig\", \"con\", \"mg\", \"agg\", \"xagg\"],\n",
    ")\n",
    "fsns_col = ldcpy.open_datasets(\n",
    "    \"cam-fv\",\n",
    "    [\"FSNS\"],\n",
    "    [\n",
    "        \"/glade/p/cisl/asap/CAM_lossy_test_data_31/orig/b.e11.BRCP85C5CNBDRD.f09_g16.031.cam.h0.FSNS.200601-201012.nc\",\n",
    "        \"/glade/p/cisl/asap/CAM_lossy_test_data_31/conservative/b.e11.BRCP85C5CNBDRD.f09_g16.031.cam.h0.FSNS.200601-201012.nc\",\n",
    "        \"/glade/p/cisl/asap/CAM_lossy_test_data_31/middle_ground/b.e11.BRCP85C5CNBDRD.f09_g16.031.cam.h0.FSNS.200601-201012.nc\",\n",
    "        \"/glade/p/cisl/asap/CAM_lossy_test_data_31/aggressive/b.e11.BRCP85C5CNBDRD.f09_g16.031.cam.h0.FSNS.200601-201012.nc\",\n",
    "        \"/glade/p/cisl/asap/CAM_lossy_test_data_31/extra_aggressive/b.e11.BRCP85C5CNBDRD.f09_g16.031.cam.h0.FSNS.200601-201012.nc\",\n",
    "    ],\n",
    "    [\"orig\", \"con\", \"mg\", \"agg\", \"xagg\"],\n",
    ")\n",
    "flns_col = ldcpy.open_datasets(\n",
    "    \"cam-fv\",\n",
    "    [\"FLNS\"],\n",
    "    [\n",
    "        \"/glade/p/cisl/asap/CAM_lossy_test_data_31/orig/b.e11.BRCP85C5CNBDRD.f09_g16.031.cam.h0.FLNS.200601-201012.nc\",\n",
    "        \"/glade/p/cisl/asap/CAM_lossy_test_data_31/conservative/b.e11.BRCP85C5CNBDRD.f09_g16.031.cam.h0.FLNS.200601-201012.nc\",\n",
    "        \"/glade/p/cisl/asap/CAM_lossy_test_data_31/middle_ground/b.e11.BRCP85C5CNBDRD.f09_g16.031.cam.h0.FLNS.200601-201012.nc\",\n",
    "        \"/glade/p/cisl/asap/CAM_lossy_test_data_31/aggressive/b.e11.BRCP85C5CNBDRD.f09_g16.031.cam.h0.FLNS.200601-201012.nc\",\n",
    "        \"/glade/p/cisl/asap/CAM_lossy_test_data_31/extra_aggressive/b.e11.BRCP85C5CNBDRD.f09_g16.031.cam.h0.FLNS.200601-201012.nc\",\n",
    "    ],\n",
    "    [\"orig\", \"con\", \"mg\", \"agg\", \"xagg\"],\n",
    ")\n",
    "shflx_col = ldcpy.open_datasets(\n",
    "    \"cam-fv\",\n",
    "    [\"SHFLX\"],\n",
    "    [\n",
    "        \"/glade/p/cisl/asap/CAM_lossy_test_data_31/orig/b.e11.BRCP85C5CNBDRD.f09_g16.031.cam.h0.SHFLX.200601-201012.nc\",\n",
    "        \"/glade/p/cisl/asap/CAM_lossy_test_data_31/conservative/b.e11.BRCP85C5CNBDRD.f09_g16.031.cam.h0.SHFLX.200601-201012.nc\",\n",
    "        \"/glade/p/cisl/asap/CAM_lossy_test_data_31/middle_ground/b.e11.BRCP85C5CNBDRD.f09_g16.031.cam.h0.SHFLX.200601-201012.nc\",\n",
    "        \"/glade/p/cisl/asap/CAM_lossy_test_data_31/aggressive/b.e11.BRCP85C5CNBDRD.f09_g16.031.cam.h0.SHFLX.200601-201012.nc\",\n",
    "        \"/glade/p/cisl/asap/CAM_lossy_test_data_31/extra_aggressive/b.e11.BRCP85C5CNBDRD.f09_g16.031.cam.h0.SHFLX.200601-201012.nc\",\n",
    "    ],\n",
    "    [\"orig\", \"con\", \"mg\", \"agg\", \"xagg\"],\n",
    ")\n",
    "lhflx_col = ldcpy.open_datasets(\n",
    "    \"cam-fv\",\n",
    "    [\"LHFLX\"],\n",
    "    [\n",
    "        \"/glade/p/cisl/asap/CAM_lossy_test_data_31/orig/b.e11.BRCP85C5CNBDRD.f09_g16.031.cam.h0.LHFLX.200601-201012.nc\",\n",
    "        \"/glade/p/cisl/asap/CAM_lossy_test_data_31/conservative/b.e11.BRCP85C5CNBDRD.f09_g16.031.cam.h0.LHFLX.200601-201012.nc\",\n",
    "        \"/glade/p/cisl/asap/CAM_lossy_test_data_31/middle_ground/b.e11.BRCP85C5CNBDRD.f09_g16.031.cam.h0.LHFLX.200601-201012.nc\",\n",
    "        \"/glade/p/cisl/asap/CAM_lossy_test_data_31/aggressive/b.e11.BRCP85C5CNBDRD.f09_g16.031.cam.h0.LHFLX.200601-201012.nc\",\n",
    "        \"/glade/p/cisl/asap/CAM_lossy_test_data_31/extra_aggressive/b.e11.BRCP85C5CNBDRD.f09_g16.031.cam.h0.LHFLX.200601-201012.nc\",\n",
    "    ],\n",
    "    [\"orig\", \"con\", \"mg\", \"agg\", \"xagg\"],\n",
    ")\n",
    "qflx_col = ldcpy.open_datasets(\n",
    "    \"cam-fv\",\n",
    "    [\"QFLX\"],\n",
    "    [\n",
    "        \"/glade/p/cisl/asap/CAM_lossy_test_data_31/orig/b.e11.BRCP85C5CNBDRD.f09_g16.031.cam.h0.QFLX.200601-201012.nc\",\n",
    "        \"/glade/p/cisl/asap/CAM_lossy_test_data_31/conservative/b.e11.BRCP85C5CNBDRD.f09_g16.031.cam.h0.QFLX.200601-201012.nc\",\n",
    "        \"/glade/p/cisl/asap/CAM_lossy_test_data_31/middle_ground/b.e11.BRCP85C5CNBDRD.f09_g16.031.cam.h0.QFLX.200601-201012.nc\",\n",
    "        \"/glade/p/cisl/asap/CAM_lossy_test_data_31/aggressive/b.e11.BRCP85C5CNBDRD.f09_g16.031.cam.h0.QFLX.200601-201012.nc\",\n",
    "        \"/glade/p/cisl/asap/CAM_lossy_test_data_31/extra_aggressive/b.e11.BRCP85C5CNBDRD.f09_g16.031.cam.h0.QFLX.200601-201012.nc\",\n",
    "    ],\n",
    "    [\"orig\", \"con\", \"mg\", \"agg\", \"xagg\"],\n",
    ")"
   ]
  },
  {
   "cell_type": "code",
   "execution_count": 7,
   "metadata": {},
   "outputs": [],
   "source": [
    "# group collections\n",
    "all_ds = ldcpy.combine_datasets(\n",
    "    [fsnt_col, flnt_col, qflx_col, precc_col, precl_col, lhflx_col, shflx_col, flns_col, fsns_col]\n",
    ")"
   ]
  },
  {
   "cell_type": "code",
   "execution_count": 10,
   "metadata": {},
   "outputs": [
    {
     "data": {
      "text/html": [
       " <span style=\"color:green\">CAM Budgets: </span>  "
      ],
      "text/plain": [
       "<IPython.core.display.HTML object>"
      ]
     },
     "metadata": {},
     "output_type": "display_data"
    },
    {
     "data": {
      "text/html": [
       "<div>\n",
       "<style scoped>\n",
       "    .dataframe tbody tr th:only-of-type {\n",
       "        vertical-align: middle;\n",
       "    }\n",
       "\n",
       "    .dataframe tbody tr th {\n",
       "        vertical-align: top;\n",
       "    }\n",
       "\n",
       "    .dataframe thead th {\n",
       "        text-align: right;\n",
       "    }\n",
       "</style>\n",
       "<table border=\"1\" class=\"dataframe\">\n",
       "  <thead>\n",
       "    <tr style=\"text-align: right;\">\n",
       "      <th></th>\n",
       "      <th>orig</th>\n",
       "      <th>con</th>\n",
       "      <th>mg</th>\n",
       "      <th>agg</th>\n",
       "      <th>xagg</th>\n",
       "    </tr>\n",
       "  </thead>\n",
       "  <tbody>\n",
       "    <tr>\n",
       "      <th>restom</th>\n",
       "      <td>0.574528</td>\n",
       "      <td>0.574511</td>\n",
       "      <td>0.574342</td>\n",
       "      <td>0.574487</td>\n",
       "      <td>0.478375</td>\n",
       "    </tr>\n",
       "    <tr>\n",
       "      <th>precip</th>\n",
       "      <td>3.50037e-08</td>\n",
       "      <td>3.50037e-08</td>\n",
       "      <td>3.50038e-08</td>\n",
       "      <td>3.50045e-08</td>\n",
       "      <td>3.49449e-08</td>\n",
       "    </tr>\n",
       "    <tr>\n",
       "      <th>e-p</th>\n",
       "      <td>6.0489</td>\n",
       "      <td>6.0489</td>\n",
       "      <td>6.04892</td>\n",
       "      <td>6.04897</td>\n",
       "      <td>6.01777</td>\n",
       "    </tr>\n",
       "    <tr>\n",
       "      <th>ressurf</th>\n",
       "      <td>1.42711</td>\n",
       "      <td>1.42714</td>\n",
       "      <td>1.42712</td>\n",
       "      <td>1.42667</td>\n",
       "      <td>0.922054</td>\n",
       "    </tr>\n",
       "  </tbody>\n",
       "</table>\n",
       "</div>"
      ],
      "text/plain": [
       "                orig          con           mg          agg         xagg\n",
       "restom      0.574528     0.574511     0.574342     0.574487     0.478375\n",
       "precip   3.50037e-08  3.50037e-08  3.50038e-08  3.50045e-08  3.49449e-08\n",
       "e-p           6.0489       6.0489      6.04892      6.04897      6.01777\n",
       "ressurf      1.42711      1.42714      1.42712      1.42667     0.922054"
      ]
     },
     "metadata": {},
     "output_type": "display_data"
    }
   ],
   "source": [
    "ldcpy.cam_budgets(all_ds, [\"orig\", \"con\", \"mg\", \"agg\", \"xagg\"], significant_digits=6)"
   ]
  },
  {
   "cell_type": "code",
   "execution_count": null,
   "metadata": {},
   "outputs": [],
   "source": []
  }
 ],
 "metadata": {
  "kernelspec": {
   "display_name": "Python 3",
   "language": "python",
   "name": "python3"
  },
  "language_info": {
   "codemirror_mode": {
    "name": "ipython",
    "version": 3
   },
   "file_extension": ".py",
   "mimetype": "text/x-python",
   "name": "python",
   "nbconvert_exporter": "python",
   "pygments_lexer": "ipython3",
   "version": "3.8.2"
  }
 },
 "nbformat": 4,
 "nbformat_minor": 4
}
