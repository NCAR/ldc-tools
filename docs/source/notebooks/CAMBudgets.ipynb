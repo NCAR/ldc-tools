{
 "cells": [
  {
   "cell_type": "markdown",
   "metadata": {},
   "source": [
    "## Looking at CAM Budgets\n",
    "\n",
    "First we set up out environment as before:\n"
   ]
  },
  {
   "cell_type": "code",
   "execution_count": 1,
   "metadata": {},
   "outputs": [],
   "source": [
    "# Add ldcpy root to system path\n",
    "import sys\n",
    "\n",
    "sys.path.insert(0, '../../../')\n",
    "\n",
    "# Import ldcpy package\n",
    "# Autoreloads package everytime the package is called, so changes to code will be reflected in the notebook if the above sys.path.insert(...) line is uncommented.\n",
    "%load_ext autoreload\n",
    "%autoreload 2\n",
    "import ldcpy\n",
    "\n",
    "# display the plots in this notebook\n",
    "%matplotlib inline"
   ]
  },
  {
   "cell_type": "markdown",
   "metadata": {},
   "source": [
    "Collections for variables needed for budgets\n"
   ]
  },
  {
   "cell_type": "code",
   "execution_count": 7,
   "metadata": {},
   "outputs": [
    {
     "name": "stdout",
     "output_type": "stream",
     "text": [
      "dataset size in GB 0.05\n",
      "\n",
      "dataset size in GB 0.05\n",
      "\n",
      "dataset size in GB 0.05\n",
      "\n",
      "dataset size in GB 0.05\n",
      "\n",
      "dataset size in GB 0.05\n",
      "\n",
      "dataset size in GB 0.05\n",
      "\n",
      "dataset size in GB 0.05\n",
      "\n",
      "dataset size in GB 0.05\n",
      "\n",
      "dataset size in GB 0.05\n",
      "\n"
     ]
    }
   ],
   "source": [
    "fsnt_col = ldcpy.open_datasets(\n",
    "    [\"FSNT\"],\n",
    "    [\n",
    "        \"/Users/abaker/alli/code-repo/test-data/budgets/orig/FSNT.monthly.10yrs.nc\",\n",
    "        \"/Users/abaker/alli/code-repo/test-data/budgets/lossy/FSNT.monthly.10yrs.nc\",\n",
    "    ],\n",
    "    [\"orig\", \"lossy\"],\n",
    ")\n",
    "flnt_col = ldcpy.open_datasets(\n",
    "    [\"FLNT\"],\n",
    "    [\n",
    "        \"/Users/abaker/alli/code-repo/test-data/budgets/orig/FLNT.monthly.10yrs.nc\",\n",
    "        \"/Users/abaker/alli/code-repo/test-data/budgets/lossy/FLNT.monthly.10yrs.nc\",\n",
    "    ],\n",
    "    [\"orig\", \"lossy\"],\n",
    ")\n",
    "precc_col = ldcpy.open_datasets(\n",
    "    [\"PRECC\"],\n",
    "    [\n",
    "        \"/Users/abaker/alli/code-repo/test-data/budgets/orig/PRECC.monthly.10yrs.nc\",\n",
    "        \"/Users/abaker/alli/code-repo/test-data/budgets/lossy/PRECC.monthly.10yrs.nc\",\n",
    "    ],\n",
    "    [\"orig\", \"lossy\"],\n",
    ")\n",
    "precl_col = ldcpy.open_datasets(\n",
    "    [\"PRECL\"],\n",
    "    [\n",
    "        \"/Users/abaker/alli/code-repo/test-data/budgets/orig/PRECL.monthly.10yrs.nc\",\n",
    "        \"/Users/abaker/alli/code-repo/test-data/budgets/lossy/PRECL.monthly.10yrs.nc\",\n",
    "    ],\n",
    "    [\"orig\", \"lossy\"],\n",
    ")\n",
    "fsns_col = ldcpy.open_datasets(\n",
    "    [\"FSNS\"],\n",
    "    [\n",
    "        \"/Users/abaker/alli/code-repo/test-data/budgets/orig/FSNS.monthly.10yrs.nc\",\n",
    "        \"/Users/abaker/alli/code-repo/test-data/budgets/lossy/FSNS.monthly.10yrs.nc\",\n",
    "    ],\n",
    "    [\"orig\", \"lossy\"],\n",
    ")\n",
    "flns_col = ldcpy.open_datasets(\n",
    "    [\"FLNS\"],\n",
    "    [\n",
    "        \"/Users/abaker/alli/code-repo/test-data/budgets/orig/FLNS.monthly.10yrs.nc\",\n",
    "        \"/Users/abaker/alli/code-repo/test-data/budgets/lossy/FLNS.monthly.10yrs.nc\",\n",
    "    ],\n",
    "    [\"orig\", \"lossy\"],\n",
    ")\n",
    "shflx_col = ldcpy.open_datasets(\n",
    "    [\"SHFLX\"],\n",
    "    [\n",
    "        \"/Users/abaker/alli/code-repo/test-data/budgets/orig/SHFLX.monthly.10yrs.nc\",\n",
    "        \"/Users/abaker/alli/code-repo/test-data/budgets/lossy/SHFLX.monthly.10yrs.nc\",\n",
    "    ],\n",
    "    [\"orig\", \"lossy\"],\n",
    ")\n",
    "lhflx_col = ldcpy.open_datasets(\n",
    "    [\"LHFLX\"],\n",
    "    [\n",
    "        \"/Users/abaker/alli/code-repo/test-data/budgets/orig/LHFLX.monthly.10yrs.nc\",\n",
    "        \"/Users/abaker/alli/code-repo/test-data/budgets/lossy/LHFLX.monthly.10yrs.nc\",\n",
    "    ],\n",
    "    [\"orig\", \"lossy\"],\n",
    ")\n",
    "qflx_col = ldcpy.open_datasets(\n",
    "    [\"QFLX\"],\n",
    "    [\n",
    "        \"/Users/abaker/alli/code-repo/test-data/budgets/orig/QFLX.monthly.10yrs.nc\",\n",
    "        \"/Users/abaker/alli/code-repo/test-data/budgets/lossy/QFLX.monthly.10yrs.nc\",\n",
    "    ],\n",
    "    [\"orig\", \"lossy\"],\n",
    ")"
   ]
  },
  {
   "cell_type": "code",
   "execution_count": 8,
   "metadata": {},
   "outputs": [
    {
     "name": "stdout",
     "output_type": "stream",
     "text": [
      "[-27.42708969 -27.42694283]\n"
     ]
    }
   ],
   "source": [
    "ldcpy.cam_restom(fsnt_col, flnt_col, [\"orig\", \"lossy\"], [\"orig\", \"lossy\"])"
   ]
  },
  {
   "cell_type": "code",
   "execution_count": 9,
   "metadata": {},
   "outputs": [
    {
     "name": "stdout",
     "output_type": "stream",
     "text": [
      "[2.83991248e-08 2.83988282e-08]\n"
     ]
    }
   ],
   "source": [
    "ldcpy.cam_precip(precc_col, precl_col, [\"orig\", \"lossy\"], [\"orig\", \"lossy\"])"
   ]
  },
  {
   "cell_type": "code",
   "execution_count": 10,
   "metadata": {},
   "outputs": [
    {
     "name": "stdout",
     "output_type": "stream",
     "text": [
      "[-1.15766251 -0.97469544]\n"
     ]
    }
   ],
   "source": [
    "ldcpy.cam_ressurf(\n",
    "    fsns_col,\n",
    "    flns_col,\n",
    "    shflx_col,\n",
    "    lhflx_col,\n",
    "    [\"orig\", \"lossy\"],\n",
    "    [\"orig\", \"lossy\"],\n",
    "    [\"orig\", \"lossy\"],\n",
    "    [\"orig\", \"lossy\"],\n",
    ")"
   ]
  },
  {
   "cell_type": "code",
   "execution_count": 11,
   "metadata": {},
   "outputs": [
    {
     "name": "stdout",
     "output_type": "stream",
     "text": [
      "[4.70243435 4.70238279]\n"
     ]
    }
   ],
   "source": [
    "ldcpy.cam_ep(\n",
    "    qflx_col, precc_col, precl_col, [\"orig\", \"lossy\"], [\"orig\", \"lossy\"], [\"orig\", \"lossy\"]\n",
    ")"
   ]
  },
  {
   "cell_type": "code",
   "execution_count": null,
   "metadata": {},
   "outputs": [],
   "source": []
  }
 ],
 "metadata": {
  "kernelspec": {
   "display_name": "Python 3",
   "language": "python",
   "name": "python3"
  },
  "language_info": {
   "codemirror_mode": {
    "name": "ipython",
    "version": 3
   },
   "file_extension": ".py",
   "mimetype": "text/x-python",
   "name": "python",
   "nbconvert_exporter": "python",
   "pygments_lexer": "ipython3",
   "version": "3.8.2"
  }
 },
 "nbformat": 4,
 "nbformat_minor": 4
}
