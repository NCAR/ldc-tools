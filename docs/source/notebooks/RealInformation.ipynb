{
 "cells": [
  {
   "cell_type": "code",
   "execution_count": 2,
   "id": "429b0696",
   "metadata": {},
   "outputs": [],
   "source": [
    "# Add ldcpy root to system path\n",
    "import sys\n",
    "\n",
    "import astropy\n",
    "import numpy as np\n",
    "\n",
    "sys.path.insert(0, '../../../')\n",
    "\n",
    "# Import ldcpy package\n",
    "# Autoreloads package everytime the package is called, so changes to code will be reflected in the notebook if the above sys.path.insert(...) line is uncommented.\n",
    "%load_ext autoreload\n",
    "%autoreload 2\n",
    "\n",
    "# suppress all of the divide by zero warnings\n",
    "import warnings\n",
    "\n",
    "warnings.filterwarnings(\"ignore\")\n",
    "\n",
    "import ldcpy\n",
    "\n",
    "# display the plots in this notebook\n",
    "%matplotlib inline"
   ]
  },
  {
   "cell_type": "code",
   "execution_count": 3,
   "id": "d47d5908",
   "metadata": {},
   "outputs": [
    {
     "name": "stdout",
     "output_type": "stream",
     "text": [
      "dataset size in GB 0.07\n",
      "\n",
      "dataset size in GB 0.04\n",
      "\n"
     ]
    }
   ],
   "source": [
    "# col_ts is a collection containing TS data\n",
    "col_ts = ldcpy.open_datasets(\n",
    "    \"cam-fv\",\n",
    "    [\"TS\"],\n",
    "    [\n",
    "        \"../../../data/cam-fv/orig.TS.100days.nc\",\n",
    "        \"../../../data/cam-fv/zfp1.0.TS.100days.nc\",\n",
    "        \"../../../data/cam-fv/zfp1e-1.TS.100days.nc\",\n",
    "    ],\n",
    "    [\"orig\", \"zfpA1.0\", \"zfpA1e-1\"],\n",
    ")\n",
    "# col_prect contains PRECT data\n",
    "col_prect = ldcpy.open_datasets(\n",
    "    \"cam-fv\",\n",
    "    [\"PRECT\"],\n",
    "    [\n",
    "        \"../../../data/cam-fv/orig.PRECT.60days.nc\",\n",
    "        \"../../../data/cam-fv/zfp1e-7.PRECT.60days.nc\",\n",
    "        \"../../../data/cam-fv/zfp1e-11.PRECT.60days.nc\",\n",
    "    ],\n",
    "    [\"orig\", \"zfpA1e-7\", \"zfpA1e-11\"],\n",
    ")"
   ]
  },
  {
   "cell_type": "code",
   "execution_count": 9,
   "id": "c4576e4d",
   "metadata": {},
   "outputs": [],
   "source": [
    "ts_array = np.array(col_ts[\"TS\"].isel(time=0).values)\n",
    "prect_array = np.array(col_prect[\"PRECT\"].isel(time=0).values)"
   ]
  },
  {
   "cell_type": "code",
   "execution_count": 10,
   "id": "320624d6",
   "metadata": {},
   "outputs": [
    {
     "data": {
      "text/plain": [
       "array([[[242.21022, 243.11699, 243.16019, ..., 243.05742, 242.19144,\n",
       "         243.1981 ],\n",
       "        [241.89694, 242.00949, 241.89752, ..., 240.79591, 241.46005,\n",
       "         241.28093],\n",
       "        [242.16418, 242.37694, 242.25932, ..., 242.1538 , 242.36421,\n",
       "         242.04303],\n",
       "        ...,\n",
       "        [231.84612, 231.65593, 231.44852, ..., 232.21297, 232.09372,\n",
       "         231.97284],\n",
       "        [233.91476, 233.82521, 233.72112, ..., 234.14885, 234.08778,\n",
       "         234.00397],\n",
       "        [230.57494, 230.59395, 230.61128, ..., 230.50511, 230.53078,\n",
       "         230.55392]],\n",
       "\n",
       "       [[242.39453, 243.08984, 243.03516, ..., 243.03516, 242.21484,\n",
       "         243.33203],\n",
       "        [241.9961 , 242.20703, 241.91797, ..., 240.82422, 241.42578,\n",
       "         241.33984],\n",
       "        [242.0664 , 242.48047, 242.14453, ..., 242.23828, 242.26172,\n",
       "         241.97266],\n",
       "        ...,\n",
       "        [231.92188, 231.70312, 231.48438, ..., 232.3125 , 232.15625,\n",
       "         232.     ],\n",
       "        [234.01562, 233.85938, 233.70312, ..., 234.1875 , 234.09375,\n",
       "         234.     ],\n",
       "        [230.54688, 230.57812, 230.60938, ..., 230.5    , 230.59375,\n",
       "         230.6875 ]],\n",
       "\n",
       "       [[242.21313, 243.11597, 243.15747, ..., 243.05957, 242.18457,\n",
       "         243.19824],\n",
       "        [241.88745, 242.01392, 241.90015, ..., 240.80762, 241.45605,\n",
       "         241.27051],\n",
       "        [242.16919, 242.37476, 242.25806, ..., 242.15332, 242.36426,\n",
       "         242.03418],\n",
       "        ...,\n",
       "        [231.84204, 231.65503, 231.4524 , ..., 232.22144, 232.08911,\n",
       "         231.96655],\n",
       "        [233.91187, 233.82544, 233.72339, ..., 234.15356, 234.09839,\n",
       "         234.0022 ],\n",
       "        [230.57544, 230.5896 , 230.60376, ..., 230.50757, 230.52954,\n",
       "         230.55347]]], dtype=float32)"
      ]
     },
     "execution_count": 10,
     "metadata": {},
     "output_type": "execute_result"
    }
   ],
   "source": [
    "ts_array"
   ]
  },
  {
   "cell_type": "code",
   "execution_count": null,
   "id": "e84762d4",
   "metadata": {},
   "outputs": [],
   "source": []
  }
 ],
 "metadata": {
  "kernelspec": {
   "display_name": "Python 3 (ipykernel)",
   "language": "python",
   "name": "python3"
  },
  "language_info": {
   "codemirror_mode": {
    "name": "ipython",
    "version": 3
   },
   "file_extension": ".py",
   "mimetype": "text/x-python",
   "name": "python",
   "nbconvert_exporter": "python",
   "pygments_lexer": "ipython3",
   "version": "3.8.0"
  }
 },
 "nbformat": 4,
 "nbformat_minor": 5
}
