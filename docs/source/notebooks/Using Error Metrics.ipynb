{
 "cells": [
  {
   "cell_type": "markdown",
   "metadata": {},
   "source": [
    "# How to use ErrorMetrics\n",
    "First we need to import the library"
   ]
  },
  {
   "cell_type": "code",
   "execution_count": 37,
   "metadata": {},
   "outputs": [
    {
     "name": "stdout",
     "output_type": "stream",
     "text": [
      "The autoreload extension is already loaded. To reload it, use:\n",
      "  %reload_ext autoreload\n"
     ]
    }
   ],
   "source": [
    "# Add ldcpy root to system path\n",
    "import sys\n",
    "sys.path.insert(0,'../../../')\n",
    "\n",
    "import ldcpy\n",
    "# Import ldcpy package\n",
    "# Autoreloads package everytime the package is called, so changes to code will be reflected in the notebook if the above sys.path.insert(...) line is uncommented.\n",
    "%load_ext autoreload\n",
    "%autoreload 2\n",
    "import ldcpy.plot as lp\n",
    "\n",
    "%matplotlib inline"
   ]
  },
  {
   "cell_type": "markdown",
   "metadata": {},
   "source": [
    "Let's load some library and data"
   ]
  },
  {
   "cell_type": "code",
   "execution_count": 47,
   "metadata": {},
   "outputs": [
    {
     "name": "stdout",
     "output_type": "stream",
     "text": [
      "ds size in GB 0.09\n",
      "\n"
     ]
    }
   ],
   "source": [
    "ds = ldcpy.open_datasets(['../../../data/cam-fv/orig.TS.100days.nc', '../../../data/cam-fv/zfp1.0.TS.100days.nc', \n",
    "                          '../../../data/cam-fv/zfp1e-1.TS.100days.nc', '../../../data/cam-fv/zfp1e-3.TS.100days.nc'],\n",
    "                         ['orig', 'zfp_1.0', 'zfp_1e-1', 'zfp_1e-3'], chunks = {'time': 10})"
   ]
  },
  {
   "cell_type": "markdown",
   "metadata": {},
   "source": [
    "Let's look at out new dataset:"
   ]
  },
  {
   "cell_type": "code",
   "execution_count": 35,
   "metadata": {},
   "outputs": [
    {
     "name": "stdout",
     "output_type": "stream",
     "text": [
      "xarray.Dataset {\n",
      "dimensions:\n",
      "\tcollection = 4 ;\n",
      "\tilev = 31 ;\n",
      "\tlat = 192 ;\n",
      "\tlev = 30 ;\n",
      "\tlon = 288 ;\n",
      "\tnbnd = 2 ;\n",
      "\ttime = 100 ;\n",
      "\n",
      "variables:\n",
      "\tfloat64 gw(lat) ;\n",
      "\t\tgw:long_name = gauss weights ;\n",
      "\tfloat64 hyam(lev) ;\n",
      "\t\thyam:long_name = hybrid A coefficient at layer midpoints ;\n",
      "\tfloat64 hybi(ilev) ;\n",
      "\t\thybi:long_name = hybrid B coefficient at layer interfaces ;\n",
      "\tfloat64 hyai(ilev) ;\n",
      "\t\thyai:long_name = hybrid A coefficient at layer interfaces ;\n",
      "\tfloat64 P0() ;\n",
      "\t\tP0:long_name = reference pressure ;\n",
      "\t\tP0:units = Pa ;\n",
      "\tfloat64 hybm(lev) ;\n",
      "\t\thybm:long_name = hybrid B coefficient at layer midpoints ;\n",
      "\tobject time_bnds(time, nbnd) ;\n",
      "\t\ttime_bnds:long_name = time interval endpoints ;\n",
      "\tfloat64 ilev(ilev) ;\n",
      "\t\tilev:long_name = hybrid level at interfaces (1000*(A+B)) ;\n",
      "\t\tilev:units = level ;\n",
      "\t\tilev:positive = down ;\n",
      "\t\tilev:standard_name = atmosphere_hybrid_sigma_pressure_coordinate ;\n",
      "\t\tilev:formula_terms = a: hyai b: hybi p0: P0 ps: PS ;\n",
      "\tfloat64 lat(lat) ;\n",
      "\t\tlat:long_name = latitude ;\n",
      "\t\tlat:units = degrees_north ;\n",
      "\tfloat64 lon(lon) ;\n",
      "\t\tlon:long_name = longitude ;\n",
      "\t\tlon:units = degrees_east ;\n",
      "\tobject time(time) ;\n",
      "\t\ttime:long_name = time ;\n",
      "\t\ttime:bounds = time_bnds ;\n",
      "\tfloat64 lev(lev) ;\n",
      "\t\tlev:long_name = hybrid level at midpoints (1000*(A+B)) ;\n",
      "\t\tlev:units = level ;\n",
      "\t\tlev:positive = down ;\n",
      "\t\tlev:standard_name = atmosphere_hybrid_sigma_pressure_coordinate ;\n",
      "\t\tlev:formula_terms = a: hyam b: hybm p0: P0 ps: PS ;\n",
      "\tfloat32 TS(collection, time, lat, lon) ;\n",
      "\t\tTS:units = K ;\n",
      "\t\tTS:long_name = Surface temperature (radiative) ;\n",
      "\t\tTS:cell_methods = time: mean ;\n",
      "\t<U8 collection(collection) ;\n",
      "\n",
      "// global attributes:\n",
      "\t:Conventions = CF-1.0 ;\n",
      "\t:source = CAM ;\n",
      "\t:case = b.e11.B20TRC5CNBDRD.f09_g16.030 ;\n",
      "\t:title = UNSET ;\n",
      "\t:logname = mai ;\n",
      "\t:host = ys0110 ;\n",
      "\t:Version = $Name$ ;\n",
      "\t:revision_Id = $Id$ ;\n",
      "\t:initial_file = b.e11.B20TRC5CNBDRD.f09_g16.001.cam.i.1920-01-01-00000.nc ;\n",
      "\t:topography_file = /glade/p/cesmdata/cseg/inputdata/atm/cam/topo/USGS-gtopo30_0.9x1.25_remap_c051027.nc ;\n",
      "\t:history = Wed Oct 16 12:10:39 2019: ncks -d time,0,99,1 -v TS,gw,lat,lon,lev b.e11.B20TRC5CNBDRD.f09_g16.030.cam.h1.TS.19200101-20051231.nc orig.TS.100days.nc\n",
      "Wed Oct 29 04:21:35 2014: ncks -F -d time,1,31390 b.e11.B20TRC5CNBDRD.f09_g16.030.cam.h1.TS.19200101-20051231.nc S_b.e11.B20TRC5CNBDRD.f09_g16.030.cam.h1.TS.19200101-20051231.nc ;\n",
      "\t:NCO = netCDF Operators version 4.7.9 (Homepage = http://nco.sf.net, Code = http://github.com/nco/nco) ;\n",
      "}"
     ]
    }
   ],
   "source": [
    "ds.info()\n"
   ]
  },
  {
   "cell_type": "markdown",
   "metadata": {},
   "source": [
    "Now we'd like to do some comparisons with the metrics..."
   ]
  },
  {
   "cell_type": "code",
   "execution_count": 48,
   "metadata": {},
   "outputs": [
    {
     "name": "stdout",
     "output_type": "stream",
     "text": [
      "chucks set to {'time', 50}\n",
      "dataset size in GB 0.04\n",
      "\n"
     ]
    }
   ],
   "source": [
    "ds3 = ldcpy.open_datasets(['../../../data/cam-fv/cam-fv.T.6months.nc'], ['orig'])"
   ]
  },
  {
   "cell_type": "code",
   "execution_count": 51,
   "metadata": {},
   "outputs": [
    {
     "name": "stdout",
     "output_type": "stream",
     "text": [
      "xarray.Dataset {\n",
      "dimensions:\n",
      "\tcollection = 1 ;\n",
      "\tilev = 31 ;\n",
      "\tlat = 192 ;\n",
      "\tlev = 30 ;\n",
      "\tlon = 288 ;\n",
      "\tnbnd = 2 ;\n",
      "\tslat = 191 ;\n",
      "\tslon = 288 ;\n",
      "\ttime = 6 ;\n",
      "\n",
      "variables:\n",
      "\tint32 mdt() ;\n",
      "\t\tmdt:long_name = timestep ;\n",
      "\t\tmdt:units = s ;\n",
      "\tfloat64 co2vmr(time) ;\n",
      "\t\tco2vmr:long_name = co2 volume mixing ratio ;\n",
      "\tint32 ntrk() ;\n",
      "\t\tntrk:long_name = spectral truncation parameter K ;\n",
      "\tfloat64 hyai(ilev) ;\n",
      "\t\thyai:long_name = hybrid A coefficient at layer interfaces ;\n",
      "\tint32 wnummax(lat) ;\n",
      "\t\twnummax:long_name = cutoff Fourier wavenumber ;\n",
      "\tfloat64 P0() ;\n",
      "\t\tP0:long_name = reference pressure ;\n",
      "\t\tP0:units = Pa ;\n",
      "\tobject time_bnds(time, nbnd) ;\n",
      "\t\ttime_bnds:long_name = time interval endpoints ;\n",
      "\tfloat64 f11vmr(time) ;\n",
      "\t\tf11vmr:long_name = f11 volume mixing ratio ;\n",
      "\tint32 nsteph(time) ;\n",
      "\t\tnsteph:long_name = current timestep ;\n",
      "\tint32 nlon(lat) ;\n",
      "\t\tnlon:long_name = number of longitudes ;\n",
      "\tint32 ndcur(time) ;\n",
      "\t\tndcur:long_name = current day (from base day) ;\n",
      "\tint32 nbsec() ;\n",
      "\t\tnbsec:long_name = seconds of base date ;\n",
      "\tfloat64 ch4vmr(time) ;\n",
      "\t\tch4vmr:long_name = ch4 volume mixing ratio ;\n",
      "\tint32 ntrn() ;\n",
      "\t\tntrn:long_name = spectral truncation parameter N ;\n",
      "\t|S8 date_written(time) ;\n",
      "\tfloat64 w_stag(slat) ;\n",
      "\t\tw_stag:long_name = staggered latitude weights ;\n",
      "\tint32 date(time) ;\n",
      "\t\tdate:long_name = current date (YYYYMMDD) ;\n",
      "\tfloat64 hybi(ilev) ;\n",
      "\t\thybi:long_name = hybrid B coefficient at layer interfaces ;\n",
      "\tint32 datesec(time) ;\n",
      "\t\tdatesec:long_name = current seconds of current date ;\n",
      "\tint32 nscur(time) ;\n",
      "\t\tnscur:long_name = current seconds of current day ;\n",
      "\t|S8 time_written(time) ;\n",
      "\tint32 nsbase() ;\n",
      "\t\tnsbase:long_name = seconds of base day ;\n",
      "\tfloat64 f12vmr(time) ;\n",
      "\t\tf12vmr:long_name = f12 volume mixing ratio ;\n",
      "\tfloat64 gw(lat) ;\n",
      "\t\tgw:long_name = gauss weights ;\n",
      "\tfloat32 T(time, lev, lat, lon) ;\n",
      "\t\tT:mdims = 1 ;\n",
      "\t\tT:units = K ;\n",
      "\t\tT:long_name = Temperature ;\n",
      "\t\tT:cell_methods = time: mean ;\n",
      "\tfloat64 hyam(lev) ;\n",
      "\t\thyam:long_name = hybrid A coefficient at layer midpoints ;\n",
      "\tfloat64 sol_tsi(time) ;\n",
      "\t\tsol_tsi:long_name = total solar irradiance ;\n",
      "\t\tsol_tsi:units = W/m2 ;\n",
      "\tfloat64 n2ovmr(time) ;\n",
      "\t\tn2ovmr:long_name = n2o volume mixing ratio ;\n",
      "\tfloat64 hybm(lev) ;\n",
      "\t\thybm:long_name = hybrid B coefficient at layer midpoints ;\n",
      "\tint32 ntrm() ;\n",
      "\t\tntrm:long_name = spectral truncation parameter M ;\n",
      "\tint32 nbdate() ;\n",
      "\t\tnbdate:long_name = base date (YYYYMMDD) ;\n",
      "\tint32 ndbase() ;\n",
      "\t\tndbase:long_name = base day ;\n",
      "\tfloat64 lon(lon) ;\n",
      "\t\tlon:long_name = longitude ;\n",
      "\t\tlon:units = degrees_east ;\n",
      "\tfloat64 lev(lev) ;\n",
      "\t\tlev:long_name = hybrid level at midpoints (1000*(A+B)) ;\n",
      "\t\tlev:units = level ;\n",
      "\t\tlev:positive = down ;\n",
      "\t\tlev:standard_name = atmosphere_hybrid_sigma_pressure_coordinate ;\n",
      "\t\tlev:formula_terms = a: hyam b: hybm p0: P0 ps: PS ;\n",
      "\tfloat64 slon(slon) ;\n",
      "\t\tslon:long_name = staggered longitude ;\n",
      "\t\tslon:units = degrees_east ;\n",
      "\tfloat64 slat(slat) ;\n",
      "\t\tslat:long_name = staggered latitude ;\n",
      "\t\tslat:units = degrees_north ;\n",
      "\tfloat64 ilev(ilev) ;\n",
      "\t\tilev:long_name = hybrid level at interfaces (1000*(A+B)) ;\n",
      "\t\tilev:units = level ;\n",
      "\t\tilev:positive = down ;\n",
      "\t\tilev:standard_name = atmosphere_hybrid_sigma_pressure_coordinate ;\n",
      "\t\tilev:formula_terms = a: hyai b: hybi p0: P0 ps: PS ;\n",
      "\tfloat64 lat(lat) ;\n",
      "\t\tlat:long_name = latitude ;\n",
      "\t\tlat:units = degrees_north ;\n",
      "\tobject time(time) ;\n",
      "\t\ttime:long_name = time ;\n",
      "\t\ttime:bounds = time_bnds ;\n",
      "\t<U4 collection(collection) ;\n",
      "\n",
      "// global attributes:\n",
      "\t:Conventions = CF-1.0 ;\n",
      "\t:source = CAM ;\n",
      "\t:case = b.e11.B20TRC5CNBDRD.f09_g16.031 ;\n",
      "\t:title = UNSET ;\n",
      "\t:logname = mickelso ;\n",
      "\t:host = ys0219 ;\n",
      "\t:Version = $Name$ ;\n",
      "\t:revision_Id = $Id$ ;\n",
      "\t:initial_file = b.e11.B20TRC5CNBDRD.f09_g16.001.cam.i.1920-01-01-00000.nc ;\n",
      "\t:topography_file = /glade/p/cesmdata/cseg/inputdata/atm/cam/topo/USGS-gtopo30_0.9x1.25_remap_c051027.nc ;\n",
      "\t:history = Fri Jun 12 14:17:32 2020: ncks -d time,0,5,1 b.e11.B20TRC5CNBDRD.f09_g16.031.cam.h0.T.192001-200512.nc cam-fv.T.6months.c ;\n",
      "\t:NCO = netCDF Operators version 4.7.9 (Homepage = http://nco.sf.net, Code = http://github.com/nco/nco) ;\n",
      "}"
     ]
    }
   ],
   "source": [
    "ds3.info()"
   ]
  },
  {
   "cell_type": "code",
   "execution_count": null,
   "metadata": {},
   "outputs": [],
   "source": []
  }
 ],
 "metadata": {
  "kernelspec": {
   "display_name": "Python 3",
   "language": "python",
   "name": "python3"
  },
  "language_info": {
   "codemirror_mode": {
    "name": "ipython",
    "version": 3
   },
   "file_extension": ".py",
   "mimetype": "text/x-python",
   "name": "python",
   "nbconvert_exporter": "python",
   "pygments_lexer": "ipython3",
   "version": "3.8.3"
  }
 },
 "nbformat": 4,
 "nbformat_minor": 2
}
