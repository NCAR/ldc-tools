{
 "cells": [
  {
   "cell_type": "markdown",
   "metadata": {},
   "source": [
    "# How to use ErrorMetrics\n",
    "First we need to import the library"
   ]
  },
  {
   "cell_type": "code",
   "execution_count": 1,
   "metadata": {},
   "outputs": [],
   "source": [
    "# %load ../ldcpy/error_metrics.py\n",
    "import sys\n",
    "sys.path.append(\"..\")\n",
    "\n",
    "from ldcpy import ErrorMetrics"
   ]
  },
  {
   "cell_type": "markdown",
   "metadata": {},
   "source": [
    "Let's load some library and data"
   ]
  },
  {
   "cell_type": "code",
   "execution_count": 2,
   "metadata": {},
   "outputs": [],
   "source": [
    "import numpy as np\n",
    "import xarray as xr\n",
    "import math\n",
    "import zfpy\n",
    "from sys import getsizeof\n",
    "\n",
    "ds =xr.open_dataset('../data/orig.TS.100days.nc')\n",
    "TS = ds.TS.values"
   ]
  },
  {
   "cell_type": "markdown",
   "metadata": {},
   "source": [
    "Let's compress and decompress TS"
   ]
  },
  {
   "cell_type": "code",
   "execution_count": 3,
   "metadata": {},
   "outputs": [],
   "source": [
    "TS_compressed = zfpy.compress_numpy(TS, tolerance=0.01)\n",
    "TS_decompressed = zfpy.decompress_numpy(TS_compressed)"
   ]
  },
  {
   "cell_type": "markdown",
   "metadata": {},
   "source": [
    "Now let's create an ``ErrorMetrics``:"
   ]
  },
  {
   "cell_type": "code",
   "execution_count": 4,
   "metadata": {},
   "outputs": [],
   "source": [
    "em = ErrorMetrics(observed=TS, modelled=TS_decompressed)"
   ]
  },
  {
   "cell_type": "markdown",
   "metadata": {},
   "source": [
    "These are the currently available error metrics:"
   ]
  },
  {
   "cell_type": "code",
   "execution_count": 5,
   "metadata": {},
   "outputs": [
    {
     "data": {
      "text/plain": [
       "{'absolute_error',\n",
       " 'covariance',\n",
       " 'error',\n",
       " 'ks_p_value',\n",
       " 'max_error',\n",
       " 'mean_absolute_error',\n",
       " 'mean_error',\n",
       " 'mean_modelled',\n",
       " 'mean_observed',\n",
       " 'mean_squared_erro',\n",
       " 'min_error',\n",
       " 'pearson_correlation_coefficient',\n",
       " 'root_mean_squared_error',\n",
       " 'squared_error',\n",
       " 'standard_deviation_modelled',\n",
       " 'standard_deviation_observed',\n",
       " 'variance_modelled',\n",
       " 'variance_observed'}"
      ]
     },
     "execution_count": 5,
     "metadata": {},
     "output_type": "execute_result"
    }
   ],
   "source": [
    "em.get_available_metrics_name()"
   ]
  },
  {
   "cell_type": "markdown",
   "metadata": {},
   "source": [
    "We could call them one by one:"
   ]
  },
  {
   "cell_type": "code",
   "execution_count": 6,
   "metadata": {},
   "outputs": [
    {
     "data": {
      "text/plain": [
       "-0.002227783203125"
      ]
     },
     "execution_count": 6,
     "metadata": {},
     "output_type": "execute_result"
    }
   ],
   "source": [
    "em.min_error"
   ]
  },
  {
   "cell_type": "code",
   "execution_count": 7,
   "metadata": {},
   "outputs": [
    {
     "data": {
      "text/plain": [
       "-1.2368267333066023e-05"
      ]
     },
     "execution_count": 7,
     "metadata": {},
     "output_type": "execute_result"
    }
   ],
   "source": [
    "em.mean_error"
   ]
  },
  {
   "cell_type": "markdown",
   "metadata": {},
   "source": [
    "or we could call them all in one go: (NOTE: we are excluding \"error\", \"squared_error\", and \"absolute_error\"; because printing them on screen would take a long time."
   ]
  },
  {
   "cell_type": "code",
   "execution_count": 8,
   "metadata": {},
   "outputs": [
    {
     "data": {
      "text/plain": [
       "{'root_mean_squared_error': 0.00034110696453027047,\n",
       " 'ks_p_value': [0.9999999999020746, 0.0],\n",
       " 'mean_error': -1.2368267333066023e-05,\n",
       " 'standard_deviation_observed': 24.340135449813467,\n",
       " 'mean_modelled': 274.99506846077463,\n",
       " 'mean_squared_erro': 1.1635396125105521e-07,\n",
       " 'min_error': -0.002227783203125,\n",
       " 'mean_absolute_error': 0.0002631182913427,\n",
       " 'covariance': 592.4425120223632,\n",
       " 'standard_deviation_modelled': 24.340135449813467,\n",
       " 'variance_observed': 592.4428304456601,\n",
       " 'mean_observed': 274.9950560925073,\n",
       " 'pearson_correlation_coefficient': 0.9999999999020759,\n",
       " 'max_error': 0.0019683837890625,\n",
       " 'variance_modelled': 592.4428304456601}"
      ]
     },
     "execution_count": 8,
     "metadata": {},
     "output_type": "execute_result"
    }
   ],
   "source": [
    "em.get_all_metrics(exclude={\"error\", \"squared_error\", \"absolute_error\"})"
   ]
  },
  {
   "cell_type": "code",
   "execution_count": null,
   "metadata": {},
   "outputs": [],
   "source": []
  }
 ],
 "metadata": {
  "kernelspec": {
   "display_name": "Python 3",
   "language": "python",
   "name": "python3"
  },
  "language_info": {
   "codemirror_mode": {
    "name": "ipython",
    "version": 3
   },
   "file_extension": ".py",
   "mimetype": "text/x-python",
   "name": "python",
   "nbconvert_exporter": "python",
   "pygments_lexer": "ipython3",
   "version": "3.7.3"
  }
 },
 "nbformat": 4,
 "nbformat_minor": 2
}
