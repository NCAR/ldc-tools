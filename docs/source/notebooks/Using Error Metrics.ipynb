{
 "cells": [
  {
   "cell_type": "markdown",
   "metadata": {},
   "source": [
    "# How to use ErrorMetrics\n",
    "First we need to import the library"
   ]
  },
  {
   "cell_type": "code",
   "execution_count": 37,
   "metadata": {},
   "outputs": [
    {
     "name": "stdout",
     "output_type": "stream",
     "text": [
      "The autoreload extension is already loaded. To reload it, use:\n",
      "  %reload_ext autoreload\n"
     ]
    }
   ],
   "source": [
    "# Add ldcpy root to system path\n",
    "import sys\n",
    "sys.path.insert(0,'../../../')\n",
    "\n",
    "import ldcpy\n",
    "# Import ldcpy package\n",
    "# Autoreloads package everytime the package is called, so changes to code will be reflected in the notebook if the above sys.path.insert(...) line is uncommented.\n",
    "%load_ext autoreload\n",
    "%autoreload 2\n",
    "import ldcpy.plot as lp\n",
    "\n",
    "%matplotlib inline"
   ]
  },
  {
   "cell_type": "markdown",
   "metadata": {},
   "source": [
    "Let's load some library and data"
   ]
  },
  {
   "cell_type": "code",
   "execution_count": 57,
   "metadata": {},
   "outputs": [
    {
     "name": "stdout",
     "output_type": "stream",
     "text": [
      "dataset size in GB 0.09\n",
      "\n"
     ]
    }
   ],
   "source": [
    "ds = ldcpy.open_datasets([\"TS\"],['../../../data/cam-fv/orig.TS.100days.nc', '../../../data/cam-fv/zfp1.0.TS.100days.nc', \n",
    "                          '../../../data/cam-fv/zfp1e-1.TS.100days.nc', '../../../data/cam-fv/zfp1e-3.TS.100days.nc'],\n",
    "                         ['orig', 'zfp_1.0', 'zfp_1e-1', 'zfp_1e-3'], chunks = {'time': 10})"
   ]
  },
  {
   "cell_type": "markdown",
   "metadata": {},
   "source": [
    "Let's look at out new dataset:"
   ]
  },
  {
   "cell_type": "code",
   "execution_count": 58,
   "metadata": {},
   "outputs": [
    {
     "name": "stdout",
     "output_type": "stream",
     "text": [
      "xarray.Dataset {\n",
      "dimensions:\n",
      "\tcollection = 4 ;\n",
      "\tilev = 31 ;\n",
      "\tlat = 192 ;\n",
      "\tlev = 30 ;\n",
      "\tlon = 288 ;\n",
      "\tnbnd = 2 ;\n",
      "\ttime = 100 ;\n",
      "\n",
      "variables:\n",
      "\tfloat64 gw(lat) ;\n",
      "\t\tgw:long_name = gauss weights ;\n",
      "\tfloat64 hyam(lev) ;\n",
      "\t\thyam:long_name = hybrid A coefficient at layer midpoints ;\n",
      "\tfloat64 hybi(ilev) ;\n",
      "\t\thybi:long_name = hybrid B coefficient at layer interfaces ;\n",
      "\tfloat64 hyai(ilev) ;\n",
      "\t\thyai:long_name = hybrid A coefficient at layer interfaces ;\n",
      "\tfloat64 P0() ;\n",
      "\t\tP0:long_name = reference pressure ;\n",
      "\t\tP0:units = Pa ;\n",
      "\tfloat64 hybm(lev) ;\n",
      "\t\thybm:long_name = hybrid B coefficient at layer midpoints ;\n",
      "\tobject time_bnds(time, nbnd) ;\n",
      "\t\ttime_bnds:long_name = time interval endpoints ;\n",
      "\tfloat64 ilev(ilev) ;\n",
      "\t\tilev:long_name = hybrid level at interfaces (1000*(A+B)) ;\n",
      "\t\tilev:units = level ;\n",
      "\t\tilev:positive = down ;\n",
      "\t\tilev:standard_name = atmosphere_hybrid_sigma_pressure_coordinate ;\n",
      "\t\tilev:formula_terms = a: hyai b: hybi p0: P0 ps: PS ;\n",
      "\tfloat64 lat(lat) ;\n",
      "\t\tlat:long_name = latitude ;\n",
      "\t\tlat:units = degrees_north ;\n",
      "\tfloat64 lon(lon) ;\n",
      "\t\tlon:long_name = longitude ;\n",
      "\t\tlon:units = degrees_east ;\n",
      "\tobject time(time) ;\n",
      "\t\ttime:long_name = time ;\n",
      "\t\ttime:bounds = time_bnds ;\n",
      "\tfloat64 lev(lev) ;\n",
      "\t\tlev:long_name = hybrid level at midpoints (1000*(A+B)) ;\n",
      "\t\tlev:units = level ;\n",
      "\t\tlev:positive = down ;\n",
      "\t\tlev:standard_name = atmosphere_hybrid_sigma_pressure_coordinate ;\n",
      "\t\tlev:formula_terms = a: hyam b: hybm p0: P0 ps: PS ;\n",
      "\tfloat32 TS(collection, time, lat, lon) ;\n",
      "\t\tTS:units = K ;\n",
      "\t\tTS:long_name = Surface temperature (radiative) ;\n",
      "\t\tTS:cell_methods = time: mean ;\n",
      "\t<U8 collection(collection) ;\n",
      "\n",
      "// global attributes:\n",
      "\t:Conventions = CF-1.0 ;\n",
      "\t:source = CAM ;\n",
      "\t:case = b.e11.B20TRC5CNBDRD.f09_g16.030 ;\n",
      "\t:title = UNSET ;\n",
      "\t:logname = mai ;\n",
      "\t:host = ys0110 ;\n",
      "\t:Version = $Name$ ;\n",
      "\t:revision_Id = $Id$ ;\n",
      "\t:initial_file = b.e11.B20TRC5CNBDRD.f09_g16.001.cam.i.1920-01-01-00000.nc ;\n",
      "\t:topography_file = /glade/p/cesmdata/cseg/inputdata/atm/cam/topo/USGS-gtopo30_0.9x1.25_remap_c051027.nc ;\n",
      "\t:history = Wed Oct 16 12:10:39 2019: ncks -d time,0,99,1 -v TS,gw,lat,lon,lev b.e11.B20TRC5CNBDRD.f09_g16.030.cam.h1.TS.19200101-20051231.nc orig.TS.100days.nc\n",
      "Wed Oct 29 04:21:35 2014: ncks -F -d time,1,31390 b.e11.B20TRC5CNBDRD.f09_g16.030.cam.h1.TS.19200101-20051231.nc S_b.e11.B20TRC5CNBDRD.f09_g16.030.cam.h1.TS.19200101-20051231.nc ;\n",
      "\t:NCO = netCDF Operators version 4.7.9 (Homepage = http://nco.sf.net, Code = http://github.com/nco/nco) ;\n",
      "}"
     ]
    }
   ],
   "source": [
    "ds.info()\n"
   ]
  },
  {
   "cell_type": "markdown",
   "metadata": {},
   "source": [
    "Now we'd like to do some comparisons with the metrics..."
   ]
  },
  {
   "cell_type": "code",
   "execution_count": 77,
   "metadata": {},
   "outputs": [
    {
     "name": "stdout",
     "output_type": "stream",
     "text": [
      "chucks set to {'time', 50}\n",
      "We have a problem. Variable 'TS' is not in the file ../../../data/cam-fv/cam-fv.T.6months.nc\n"
     ]
    },
    {
     "ename": "ValueError",
     "evalue": "some variables in data_vars are not data variables on the first dataset: ['TS']",
     "output_type": "error",
     "traceback": [
      "\u001b[0;31m---------------------------------------------------------------------------\u001b[0m",
      "\u001b[0;31mValueError\u001b[0m                                Traceback (most recent call last)",
      "\u001b[0;32m<ipython-input-77-894fcf17f4d0>\u001b[0m in \u001b[0;36m<module>\u001b[0;34m\u001b[0m\n\u001b[0;32m----> 1\u001b[0;31m \u001b[0mds3\u001b[0m \u001b[0;34m=\u001b[0m \u001b[0mldcpy\u001b[0m\u001b[0;34m.\u001b[0m\u001b[0mopen_datasets\u001b[0m\u001b[0;34m(\u001b[0m\u001b[0;34m[\u001b[0m\u001b[0;34m\"TS\"\u001b[0m\u001b[0;34m]\u001b[0m\u001b[0;34m,\u001b[0m\u001b[0;34m[\u001b[0m\u001b[0;34m'../../../data/cam-fv/cam-fv.T.6months.nc'\u001b[0m\u001b[0;34m]\u001b[0m\u001b[0;34m,\u001b[0m \u001b[0;34m[\u001b[0m\u001b[0;34m'orig'\u001b[0m\u001b[0;34m]\u001b[0m\u001b[0;34m)\u001b[0m\u001b[0;34m\u001b[0m\u001b[0;34m\u001b[0m\u001b[0m\n\u001b[0m",
      "\u001b[0;32m~/alli/code-repo/ldcpy/ldcpy/util.py\u001b[0m in \u001b[0;36mopen_datasets\u001b[0;34m(varnames, list_of_files, labels, **kwargs)\u001b[0m\n\u001b[1;32m     89\u001b[0m         \u001b[0mds_check\u001b[0m\u001b[0;34m.\u001b[0m\u001b[0mclose\u001b[0m\u001b[0;34m(\u001b[0m\u001b[0;34m)\u001b[0m\u001b[0;34m\u001b[0m\u001b[0;34m\u001b[0m\u001b[0m\n\u001b[1;32m     90\u001b[0m \u001b[0;34m\u001b[0m\u001b[0m\n\u001b[0;32m---> 91\u001b[0;31m     \u001b[0mfull_ds\u001b[0m \u001b[0;34m=\u001b[0m \u001b[0mxr\u001b[0m\u001b[0;34m.\u001b[0m\u001b[0mopen_mfdataset\u001b[0m\u001b[0;34m(\u001b[0m\u001b[0mlist_of_files\u001b[0m\u001b[0;34m,\u001b[0m \u001b[0mconcat_dim\u001b[0m \u001b[0;34m=\u001b[0m \u001b[0;34m'collection'\u001b[0m\u001b[0;34m,\u001b[0m \u001b[0mcombine\u001b[0m \u001b[0;34m=\u001b[0m \u001b[0;34m'nested'\u001b[0m\u001b[0;34m,\u001b[0m \u001b[0mdata_vars\u001b[0m \u001b[0;34m=\u001b[0m \u001b[0mvarnames\u001b[0m\u001b[0;34m,\u001b[0m \u001b[0;34m**\u001b[0m\u001b[0mkwargs\u001b[0m\u001b[0;34m)\u001b[0m\u001b[0;34m\u001b[0m\u001b[0;34m\u001b[0m\u001b[0m\n\u001b[0m\u001b[1;32m     92\u001b[0m \u001b[0;34m\u001b[0m\u001b[0m\n\u001b[1;32m     93\u001b[0m     \u001b[0mfull_ds\u001b[0m\u001b[0;34m[\u001b[0m\u001b[0;34m'collection'\u001b[0m\u001b[0;34m]\u001b[0m \u001b[0;34m=\u001b[0m \u001b[0mxr\u001b[0m\u001b[0;34m.\u001b[0m\u001b[0mDataArray\u001b[0m\u001b[0;34m(\u001b[0m\u001b[0mlabels\u001b[0m\u001b[0;34m,\u001b[0m \u001b[0mdims\u001b[0m\u001b[0;34m=\u001b[0m\u001b[0;34m'collection'\u001b[0m\u001b[0;34m)\u001b[0m\u001b[0;34m\u001b[0m\u001b[0;34m\u001b[0m\u001b[0m\n",
      "\u001b[0;32m~/anaconda3/envs/ldcpy/lib/python3.8/site-packages/xarray/backends/api.py\u001b[0m in \u001b[0;36mopen_mfdataset\u001b[0;34m(paths, chunks, concat_dim, compat, preprocess, engine, lock, data_vars, coords, combine, autoclose, parallel, join, attrs_file, **kwargs)\u001b[0m\n\u001b[1;32m    944\u001b[0m             \u001b[0;31m# Combined nested list by successive concat and merge operations\u001b[0m\u001b[0;34m\u001b[0m\u001b[0;34m\u001b[0m\u001b[0;34m\u001b[0m\u001b[0m\n\u001b[1;32m    945\u001b[0m             \u001b[0;31m# along each dimension, using structure given by \"ids\"\u001b[0m\u001b[0;34m\u001b[0m\u001b[0;34m\u001b[0m\u001b[0;34m\u001b[0m\u001b[0m\n\u001b[0;32m--> 946\u001b[0;31m             combined = _nested_combine(\n\u001b[0m\u001b[1;32m    947\u001b[0m                 \u001b[0mdatasets\u001b[0m\u001b[0;34m,\u001b[0m\u001b[0;34m\u001b[0m\u001b[0;34m\u001b[0m\u001b[0m\n\u001b[1;32m    948\u001b[0m                 \u001b[0mconcat_dims\u001b[0m\u001b[0;34m=\u001b[0m\u001b[0mconcat_dim\u001b[0m\u001b[0;34m,\u001b[0m\u001b[0;34m\u001b[0m\u001b[0;34m\u001b[0m\u001b[0m\n",
      "\u001b[0;32m~/anaconda3/envs/ldcpy/lib/python3.8/site-packages/xarray/core/combine.py\u001b[0m in \u001b[0;36m_nested_combine\u001b[0;34m(datasets, concat_dims, compat, data_vars, coords, ids, fill_value, join)\u001b[0m\n\u001b[1;32m    304\u001b[0m \u001b[0;34m\u001b[0m\u001b[0m\n\u001b[1;32m    305\u001b[0m     \u001b[0;31m# Apply series of concatenate or merge operations along each dimension\u001b[0m\u001b[0;34m\u001b[0m\u001b[0;34m\u001b[0m\u001b[0;34m\u001b[0m\u001b[0m\n\u001b[0;32m--> 306\u001b[0;31m     combined = _combine_nd(\n\u001b[0m\u001b[1;32m    307\u001b[0m         \u001b[0mcombined_ids\u001b[0m\u001b[0;34m,\u001b[0m\u001b[0;34m\u001b[0m\u001b[0;34m\u001b[0m\u001b[0m\n\u001b[1;32m    308\u001b[0m         \u001b[0mconcat_dims\u001b[0m\u001b[0;34m,\u001b[0m\u001b[0;34m\u001b[0m\u001b[0;34m\u001b[0m\u001b[0m\n",
      "\u001b[0;32m~/anaconda3/envs/ldcpy/lib/python3.8/site-packages/xarray/core/combine.py\u001b[0m in \u001b[0;36m_combine_nd\u001b[0;34m(combined_ids, concat_dims, data_vars, coords, compat, fill_value, join)\u001b[0m\n\u001b[1;32m    195\u001b[0m     \u001b[0;31m# element of the tuple\u001b[0m\u001b[0;34m\u001b[0m\u001b[0;34m\u001b[0m\u001b[0;34m\u001b[0m\u001b[0m\n\u001b[1;32m    196\u001b[0m     \u001b[0;32mfor\u001b[0m \u001b[0mconcat_dim\u001b[0m \u001b[0;32min\u001b[0m \u001b[0mconcat_dims\u001b[0m\u001b[0;34m:\u001b[0m\u001b[0;34m\u001b[0m\u001b[0;34m\u001b[0m\u001b[0m\n\u001b[0;32m--> 197\u001b[0;31m         combined_ids = _combine_all_along_first_dim(\n\u001b[0m\u001b[1;32m    198\u001b[0m             \u001b[0mcombined_ids\u001b[0m\u001b[0;34m,\u001b[0m\u001b[0;34m\u001b[0m\u001b[0;34m\u001b[0m\u001b[0m\n\u001b[1;32m    199\u001b[0m             \u001b[0mdim\u001b[0m\u001b[0;34m=\u001b[0m\u001b[0mconcat_dim\u001b[0m\u001b[0;34m,\u001b[0m\u001b[0;34m\u001b[0m\u001b[0;34m\u001b[0m\u001b[0m\n",
      "\u001b[0;32m~/anaconda3/envs/ldcpy/lib/python3.8/site-packages/xarray/core/combine.py\u001b[0m in \u001b[0;36m_combine_all_along_first_dim\u001b[0;34m(combined_ids, dim, data_vars, coords, compat, fill_value, join)\u001b[0m\n\u001b[1;32m    223\u001b[0m         \u001b[0mcombined_ids\u001b[0m \u001b[0;34m=\u001b[0m \u001b[0mdict\u001b[0m\u001b[0;34m(\u001b[0m\u001b[0msorted\u001b[0m\u001b[0;34m(\u001b[0m\u001b[0mgroup\u001b[0m\u001b[0;34m)\u001b[0m\u001b[0;34m)\u001b[0m\u001b[0;34m\u001b[0m\u001b[0;34m\u001b[0m\u001b[0m\n\u001b[1;32m    224\u001b[0m         \u001b[0mdatasets\u001b[0m \u001b[0;34m=\u001b[0m \u001b[0mcombined_ids\u001b[0m\u001b[0;34m.\u001b[0m\u001b[0mvalues\u001b[0m\u001b[0;34m(\u001b[0m\u001b[0;34m)\u001b[0m\u001b[0;34m\u001b[0m\u001b[0;34m\u001b[0m\u001b[0m\n\u001b[0;32m--> 225\u001b[0;31m         new_combined_ids[new_id] = _combine_1d(\n\u001b[0m\u001b[1;32m    226\u001b[0m             \u001b[0mdatasets\u001b[0m\u001b[0;34m,\u001b[0m \u001b[0mdim\u001b[0m\u001b[0;34m,\u001b[0m \u001b[0mcompat\u001b[0m\u001b[0;34m,\u001b[0m \u001b[0mdata_vars\u001b[0m\u001b[0;34m,\u001b[0m \u001b[0mcoords\u001b[0m\u001b[0;34m,\u001b[0m \u001b[0mfill_value\u001b[0m\u001b[0;34m,\u001b[0m \u001b[0mjoin\u001b[0m\u001b[0;34m\u001b[0m\u001b[0;34m\u001b[0m\u001b[0m\n\u001b[1;32m    227\u001b[0m         )\n",
      "\u001b[0;32m~/anaconda3/envs/ldcpy/lib/python3.8/site-packages/xarray/core/combine.py\u001b[0m in \u001b[0;36m_combine_1d\u001b[0;34m(datasets, concat_dim, compat, data_vars, coords, fill_value, join)\u001b[0m\n\u001b[1;32m    245\u001b[0m     \u001b[0;32mif\u001b[0m \u001b[0mconcat_dim\u001b[0m \u001b[0;32mis\u001b[0m \u001b[0;32mnot\u001b[0m \u001b[0;32mNone\u001b[0m\u001b[0;34m:\u001b[0m\u001b[0;34m\u001b[0m\u001b[0;34m\u001b[0m\u001b[0m\n\u001b[1;32m    246\u001b[0m         \u001b[0;32mtry\u001b[0m\u001b[0;34m:\u001b[0m\u001b[0;34m\u001b[0m\u001b[0;34m\u001b[0m\u001b[0m\n\u001b[0;32m--> 247\u001b[0;31m             combined = concat(\n\u001b[0m\u001b[1;32m    248\u001b[0m                 \u001b[0mdatasets\u001b[0m\u001b[0;34m,\u001b[0m\u001b[0;34m\u001b[0m\u001b[0;34m\u001b[0m\u001b[0m\n\u001b[1;32m    249\u001b[0m                 \u001b[0mdim\u001b[0m\u001b[0;34m=\u001b[0m\u001b[0mconcat_dim\u001b[0m\u001b[0;34m,\u001b[0m\u001b[0;34m\u001b[0m\u001b[0;34m\u001b[0m\u001b[0m\n",
      "\u001b[0;32m~/anaconda3/envs/ldcpy/lib/python3.8/site-packages/xarray/core/concat.py\u001b[0m in \u001b[0;36mconcat\u001b[0;34m(objs, dim, data_vars, coords, compat, positions, fill_value, join)\u001b[0m\n\u001b[1;32m    133\u001b[0m             \u001b[0;34m\"objects, got %s\"\u001b[0m \u001b[0;34m%\u001b[0m \u001b[0mtype\u001b[0m\u001b[0;34m(\u001b[0m\u001b[0mfirst_obj\u001b[0m\u001b[0;34m)\u001b[0m\u001b[0;34m\u001b[0m\u001b[0;34m\u001b[0m\u001b[0m\n\u001b[1;32m    134\u001b[0m         )\n\u001b[0;32m--> 135\u001b[0;31m     \u001b[0;32mreturn\u001b[0m \u001b[0mf\u001b[0m\u001b[0;34m(\u001b[0m\u001b[0mobjs\u001b[0m\u001b[0;34m,\u001b[0m \u001b[0mdim\u001b[0m\u001b[0;34m,\u001b[0m \u001b[0mdata_vars\u001b[0m\u001b[0;34m,\u001b[0m \u001b[0mcoords\u001b[0m\u001b[0;34m,\u001b[0m \u001b[0mcompat\u001b[0m\u001b[0;34m,\u001b[0m \u001b[0mpositions\u001b[0m\u001b[0;34m,\u001b[0m \u001b[0mfill_value\u001b[0m\u001b[0;34m,\u001b[0m \u001b[0mjoin\u001b[0m\u001b[0;34m)\u001b[0m\u001b[0;34m\u001b[0m\u001b[0;34m\u001b[0m\u001b[0m\n\u001b[0m\u001b[1;32m    136\u001b[0m \u001b[0;34m\u001b[0m\u001b[0m\n\u001b[1;32m    137\u001b[0m \u001b[0;34m\u001b[0m\u001b[0m\n",
      "\u001b[0;32m~/anaconda3/envs/ldcpy/lib/python3.8/site-packages/xarray/core/concat.py\u001b[0m in \u001b[0;36m_dataset_concat\u001b[0;34m(datasets, dim, data_vars, coords, compat, positions, fill_value, join)\u001b[0m\n\u001b[1;32m    338\u001b[0m \u001b[0;34m\u001b[0m\u001b[0m\n\u001b[1;32m    339\u001b[0m     \u001b[0;31m# determine which variables to concatentate\u001b[0m\u001b[0;34m\u001b[0m\u001b[0;34m\u001b[0m\u001b[0;34m\u001b[0m\u001b[0m\n\u001b[0;32m--> 340\u001b[0;31m     concat_over, equals, concat_dim_lengths = _calc_concat_over(\n\u001b[0m\u001b[1;32m    341\u001b[0m         \u001b[0mdatasets\u001b[0m\u001b[0;34m,\u001b[0m \u001b[0mdim\u001b[0m\u001b[0;34m,\u001b[0m \u001b[0mdim_names\u001b[0m\u001b[0;34m,\u001b[0m \u001b[0mdata_vars\u001b[0m\u001b[0;34m,\u001b[0m \u001b[0mcoords\u001b[0m\u001b[0;34m,\u001b[0m \u001b[0mcompat\u001b[0m\u001b[0;34m\u001b[0m\u001b[0;34m\u001b[0m\u001b[0m\n\u001b[1;32m    342\u001b[0m     )\n",
      "\u001b[0;32m~/anaconda3/envs/ldcpy/lib/python3.8/site-packages/xarray/core/concat.py\u001b[0m in \u001b[0;36m_calc_concat_over\u001b[0;34m(datasets, dim, dim_names, data_vars, coords, compat)\u001b[0m\n\u001b[1;32m    271\u001b[0m             \u001b[0mconcat_over\u001b[0m\u001b[0;34m.\u001b[0m\u001b[0mupdate\u001b[0m\u001b[0;34m(\u001b[0m\u001b[0mopt\u001b[0m\u001b[0;34m)\u001b[0m\u001b[0;34m\u001b[0m\u001b[0;34m\u001b[0m\u001b[0m\n\u001b[1;32m    272\u001b[0m \u001b[0;34m\u001b[0m\u001b[0m\n\u001b[0;32m--> 273\u001b[0;31m     \u001b[0mprocess_subset_opt\u001b[0m\u001b[0;34m(\u001b[0m\u001b[0mdata_vars\u001b[0m\u001b[0;34m,\u001b[0m \u001b[0;34m\"data_vars\"\u001b[0m\u001b[0;34m)\u001b[0m\u001b[0;34m\u001b[0m\u001b[0;34m\u001b[0m\u001b[0m\n\u001b[0m\u001b[1;32m    274\u001b[0m     \u001b[0mprocess_subset_opt\u001b[0m\u001b[0;34m(\u001b[0m\u001b[0mcoords\u001b[0m\u001b[0;34m,\u001b[0m \u001b[0;34m\"coords\"\u001b[0m\u001b[0;34m)\u001b[0m\u001b[0;34m\u001b[0m\u001b[0;34m\u001b[0m\u001b[0m\n\u001b[1;32m    275\u001b[0m     \u001b[0;32mreturn\u001b[0m \u001b[0mconcat_over\u001b[0m\u001b[0;34m,\u001b[0m \u001b[0mequals\u001b[0m\u001b[0;34m,\u001b[0m \u001b[0mconcat_dim_lengths\u001b[0m\u001b[0;34m\u001b[0m\u001b[0;34m\u001b[0m\u001b[0m\n",
      "\u001b[0;32m~/anaconda3/envs/ldcpy/lib/python3.8/site-packages/xarray/core/concat.py\u001b[0m in \u001b[0;36mprocess_subset_opt\u001b[0;34m(opt, subset)\u001b[0m\n\u001b[1;32m    265\u001b[0m                     )\n\u001b[1;32m    266\u001b[0m                 \u001b[0;32melse\u001b[0m\u001b[0;34m:\u001b[0m\u001b[0;34m\u001b[0m\u001b[0;34m\u001b[0m\u001b[0m\n\u001b[0;32m--> 267\u001b[0;31m                     raise ValueError(\n\u001b[0m\u001b[1;32m    268\u001b[0m                         \u001b[0;34m\"some variables in data_vars are not data variables \"\u001b[0m\u001b[0;34m\u001b[0m\u001b[0;34m\u001b[0m\u001b[0m\n\u001b[1;32m    269\u001b[0m                         \u001b[0;34m\"on the first dataset: %s\"\u001b[0m \u001b[0;34m%\u001b[0m \u001b[0;34m(\u001b[0m\u001b[0minvalid_vars\u001b[0m\u001b[0;34m,\u001b[0m\u001b[0;34m)\u001b[0m\u001b[0;34m\u001b[0m\u001b[0;34m\u001b[0m\u001b[0m\n",
      "\u001b[0;31mValueError\u001b[0m: some variables in data_vars are not data variables on the first dataset: ['TS']"
     ]
    }
   ],
   "source": [
    "ds3 = ldcpy.open_datasets([\"TS\"],['../../../data/cam-fv/cam-fv.T.6months.nc'], ['orig'])"
   ]
  },
  {
   "cell_type": "code",
   "execution_count": 67,
   "metadata": {},
   "outputs": [
    {
     "name": "stdout",
     "output_type": "stream",
     "text": [
      "xarray.Dataset {\n",
      "dimensions:\n",
      "\tcollection = 1 ;\n",
      "\tilev = 31 ;\n",
      "\tlat = 192 ;\n",
      "\tlev = 30 ;\n",
      "\tlon = 288 ;\n",
      "\tnbnd = 2 ;\n",
      "\tslat = 191 ;\n",
      "\tslon = 288 ;\n",
      "\ttime = 6 ;\n",
      "\n",
      "variables:\n",
      "\tint32 mdt() ;\n",
      "\t\tmdt:long_name = timestep ;\n",
      "\t\tmdt:units = s ;\n",
      "\tfloat64 co2vmr(time) ;\n",
      "\t\tco2vmr:long_name = co2 volume mixing ratio ;\n",
      "\tint32 ntrk() ;\n",
      "\t\tntrk:long_name = spectral truncation parameter K ;\n",
      "\tfloat64 hyai(ilev) ;\n",
      "\t\thyai:long_name = hybrid A coefficient at layer interfaces ;\n",
      "\tint32 wnummax(lat) ;\n",
      "\t\twnummax:long_name = cutoff Fourier wavenumber ;\n",
      "\tfloat64 P0() ;\n",
      "\t\tP0:long_name = reference pressure ;\n",
      "\t\tP0:units = Pa ;\n",
      "\tobject time_bnds(time, nbnd) ;\n",
      "\t\ttime_bnds:long_name = time interval endpoints ;\n",
      "\tfloat64 f11vmr(time) ;\n",
      "\t\tf11vmr:long_name = f11 volume mixing ratio ;\n",
      "\tint32 nsteph(time) ;\n",
      "\t\tnsteph:long_name = current timestep ;\n",
      "\tint32 nlon(lat) ;\n",
      "\t\tnlon:long_name = number of longitudes ;\n",
      "\tint32 ndcur(time) ;\n",
      "\t\tndcur:long_name = current day (from base day) ;\n",
      "\tint32 nbsec() ;\n",
      "\t\tnbsec:long_name = seconds of base date ;\n",
      "\tint32 ntrn() ;\n",
      "\t\tntrn:long_name = spectral truncation parameter N ;\n",
      "\t|S8 date_written(time) ;\n",
      "\tint32 ntrm() ;\n",
      "\t\tntrm:long_name = spectral truncation parameter M ;\n",
      "\tfloat64 w_stag(slat) ;\n",
      "\t\tw_stag:long_name = staggered latitude weights ;\n",
      "\tint32 date(time) ;\n",
      "\t\tdate:long_name = current date (YYYYMMDD) ;\n",
      "\tfloat64 hybi(ilev) ;\n",
      "\t\thybi:long_name = hybrid B coefficient at layer interfaces ;\n",
      "\tint32 datesec(time) ;\n",
      "\t\tdatesec:long_name = current seconds of current date ;\n",
      "\tint32 nscur(time) ;\n",
      "\t\tnscur:long_name = current seconds of current day ;\n",
      "\t|S8 time_written(time) ;\n",
      "\tint32 nsbase() ;\n",
      "\t\tnsbase:long_name = seconds of base day ;\n",
      "\tfloat64 f12vmr(time) ;\n",
      "\t\tf12vmr:long_name = f12 volume mixing ratio ;\n",
      "\tfloat64 gw(lat) ;\n",
      "\t\tgw:long_name = gauss weights ;\n",
      "\tfloat64 hyam(lev) ;\n",
      "\t\thyam:long_name = hybrid A coefficient at layer midpoints ;\n",
      "\tfloat64 sol_tsi(time) ;\n",
      "\t\tsol_tsi:long_name = total solar irradiance ;\n",
      "\t\tsol_tsi:units = W/m2 ;\n",
      "\tfloat64 n2ovmr(time) ;\n",
      "\t\tn2ovmr:long_name = n2o volume mixing ratio ;\n",
      "\tfloat64 hybm(lev) ;\n",
      "\t\thybm:long_name = hybrid B coefficient at layer midpoints ;\n",
      "\tfloat64 ch4vmr(time) ;\n",
      "\t\tch4vmr:long_name = ch4 volume mixing ratio ;\n",
      "\tint32 nbdate() ;\n",
      "\t\tnbdate:long_name = base date (YYYYMMDD) ;\n",
      "\tint32 ndbase() ;\n",
      "\t\tndbase:long_name = base day ;\n",
      "\tfloat64 lon(lon) ;\n",
      "\t\tlon:long_name = longitude ;\n",
      "\t\tlon:units = degrees_east ;\n",
      "\tfloat64 lev(lev) ;\n",
      "\t\tlev:long_name = hybrid level at midpoints (1000*(A+B)) ;\n",
      "\t\tlev:units = level ;\n",
      "\t\tlev:positive = down ;\n",
      "\t\tlev:standard_name = atmosphere_hybrid_sigma_pressure_coordinate ;\n",
      "\t\tlev:formula_terms = a: hyam b: hybm p0: P0 ps: PS ;\n",
      "\tfloat64 slon(slon) ;\n",
      "\t\tslon:long_name = staggered longitude ;\n",
      "\t\tslon:units = degrees_east ;\n",
      "\tfloat64 slat(slat) ;\n",
      "\t\tslat:long_name = staggered latitude ;\n",
      "\t\tslat:units = degrees_north ;\n",
      "\tfloat64 ilev(ilev) ;\n",
      "\t\tilev:long_name = hybrid level at interfaces (1000*(A+B)) ;\n",
      "\t\tilev:units = level ;\n",
      "\t\tilev:positive = down ;\n",
      "\t\tilev:standard_name = atmosphere_hybrid_sigma_pressure_coordinate ;\n",
      "\t\tilev:formula_terms = a: hyai b: hybi p0: P0 ps: PS ;\n",
      "\tfloat64 lat(lat) ;\n",
      "\t\tlat:long_name = latitude ;\n",
      "\t\tlat:units = degrees_north ;\n",
      "\tobject time(time) ;\n",
      "\t\ttime:long_name = time ;\n",
      "\t\ttime:bounds = time_bnds ;\n",
      "\tfloat32 T(collection, time, lev, lat, lon) ;\n",
      "\t\tT:mdims = 1 ;\n",
      "\t\tT:units = K ;\n",
      "\t\tT:long_name = Temperature ;\n",
      "\t\tT:cell_methods = time: mean ;\n",
      "\t<U4 collection(collection) ;\n",
      "\n",
      "// global attributes:\n",
      "\t:Conventions = CF-1.0 ;\n",
      "\t:source = CAM ;\n",
      "\t:case = b.e11.B20TRC5CNBDRD.f09_g16.031 ;\n",
      "\t:title = UNSET ;\n",
      "\t:logname = mickelso ;\n",
      "\t:host = ys0219 ;\n",
      "\t:Version = $Name$ ;\n",
      "\t:revision_Id = $Id$ ;\n",
      "\t:initial_file = b.e11.B20TRC5CNBDRD.f09_g16.001.cam.i.1920-01-01-00000.nc ;\n",
      "\t:topography_file = /glade/p/cesmdata/cseg/inputdata/atm/cam/topo/USGS-gtopo30_0.9x1.25_remap_c051027.nc ;\n",
      "\t:history = Fri Jun 12 14:17:32 2020: ncks -d time,0,5,1 b.e11.B20TRC5CNBDRD.f09_g16.031.cam.h0.T.192001-200512.nc cam-fv.T.6months.c ;\n",
      "\t:NCO = netCDF Operators version 4.7.9 (Homepage = http://nco.sf.net, Code = http://github.com/nco/nco) ;\n",
      "}"
     ]
    }
   ],
   "source": [
    "ds3.info()"
   ]
  },
  {
   "cell_type": "code",
   "execution_count": 64,
   "metadata": {},
   "outputs": [
    {
     "data": {
      "text/plain": [
       "False"
      ]
     },
     "execution_count": 64,
     "metadata": {},
     "output_type": "execute_result"
    }
   ],
   "source": [
    "not\"T\" in ds3.variables\n"
   ]
  },
  {
   "cell_type": "code",
   "execution_count": 72,
   "metadata": {},
   "outputs": [],
   "source": [
    "varname = \"T\""
   ]
  },
  {
   "cell_type": "code",
   "execution_count": 75,
   "metadata": {},
   "outputs": [
    {
     "name": "stdout",
     "output_type": "stream",
     "text": [
      "We have a problem. T is not a variable\n"
     ]
    }
   ],
   "source": [
    "print(f\"We have a problem. {varname} is not a variable\")"
   ]
  },
  {
   "cell_type": "code",
   "execution_count": null,
   "metadata": {},
   "outputs": [],
   "source": []
  }
 ],
 "metadata": {
  "kernelspec": {
   "display_name": "Python 3",
   "language": "python",
   "name": "python3"
  },
  "language_info": {
   "codemirror_mode": {
    "name": "ipython",
    "version": 3
   },
   "file_extension": ".py",
   "mimetype": "text/x-python",
   "name": "python",
   "nbconvert_exporter": "python",
   "pygments_lexer": "ipython3",
   "version": "3.8.3"
  }
 },
 "nbformat": 4,
 "nbformat_minor": 2
}
