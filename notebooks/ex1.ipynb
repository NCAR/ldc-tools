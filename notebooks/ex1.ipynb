{
 "cells": [
  {
   "cell_type": "code",
   "execution_count": 149,
   "metadata": {},
   "outputs": [],
   "source": [
    "#import stuff\n",
    "import xarray as xr\n",
    "import numpy as np\n",
    "#import matplotlib.pyplot as plt\n",
    "#import matplotlib as mpl\n",
    "import cartopy\n",
    "import cartopy.crs as ccrs\n",
    "#import os\n",
    "#import cmocean \n",
    "from cartopy.util import add_cyclic_point\n",
    "from scipy import stats as stats\n"
   ]
  },
  {
   "cell_type": "code",
   "execution_count": 132,
   "metadata": {},
   "outputs": [],
   "source": [
    "#error in dp\n",
    "def error_d(xa, ya): #error in double precision\n",
    "    xa64 = orig_val.astype(np.float64)\n",
    "    ya64 = recon_val.astype(np.float64)\n",
    "    return xa64 - ya64"
   ]
  },
  {
   "cell_type": "code",
   "execution_count": 133,
   "metadata": {},
   "outputs": [],
   "source": [
    "#calculate K-S p-value\n",
    "def calc_ks(orig_val, recon_val):\n",
    "    o64 = orig_val.astype(np.float64)\n",
    "    r64 = recon_val.astype(np.float64)\n",
    "    ks_stat, p_val = stats.ks_2samp(np.ravel(o64), np.ravel(r64))\n",
    "    return p_val"
   ]
  },
  {
   "cell_type": "code",
   "execution_count": 134,
   "metadata": {},
   "outputs": [],
   "source": [
    "orig_ds = xr.open_dataset('../data/orig.TS.100days.nc')"
   ]
  },
  {
   "cell_type": "code",
   "execution_count": 135,
   "metadata": {},
   "outputs": [],
   "source": [
    "recon_ds = xr.open_dataset('../data/zfp1.0.TS.100days.nc')"
   ]
  },
  {
   "cell_type": "code",
   "execution_count": 136,
   "metadata": {},
   "outputs": [],
   "source": [
    "recon_ds_2 = xr.open_dataset('../data/zfp1e-1.TS.100days.nc')"
   ]
  },
  {
   "cell_type": "code",
   "execution_count": 137,
   "metadata": {},
   "outputs": [],
   "source": [
    "orig_ts = orig_ds.TS"
   ]
  },
  {
   "cell_type": "code",
   "execution_count": 138,
   "metadata": {},
   "outputs": [],
   "source": [
    "recon_ts = recon_ds.TS"
   ]
  },
  {
   "cell_type": "code",
   "execution_count": 158,
   "metadata": {},
   "outputs": [
    {
     "data": {
      "text/plain": [
       "0.9999999999132105"
      ]
     },
     "execution_count": 158,
     "metadata": {},
     "output_type": "execute_result"
    }
   ],
   "source": [
    "calc_ks(orig_ts.isel(time=0), recon_ts.isel(time=0))"
   ]
  },
  {
   "cell_type": "code",
   "execution_count": 141,
   "metadata": {},
   "outputs": [],
   "source": [
    "#pearson correlation coefficient\n",
    "def calc_corr(orig_val, recon_val):\n",
    "    o64 = orig_val.astype(np.float64)\n",
    "    r64 = recon_val.astype(np.float64)\n",
    "    r, pval = stats.pearsonr(np.ravel(o64), np.ravel(r64))\n",
    "    return r"
   ]
  },
  {
   "cell_type": "code",
   "execution_count": 159,
   "metadata": {},
   "outputs": [
    {
     "data": {
      "text/plain": [
       "0.9999947706571545"
      ]
     },
     "execution_count": 159,
     "metadata": {},
     "output_type": "execute_result"
    }
   ],
   "source": [
    "calc_corr(orig_ts.isel(time=0), recon_ts.isel(time=0))"
   ]
  },
  {
   "cell_type": "code",
   "execution_count": 144,
   "metadata": {},
   "outputs": [],
   "source": [
    "#normalized (by range) root mean square error\n",
    "def calc_nrmse(orig_val, recon_val): \n",
    "    e = error_d(orig_val, recon_val)\n",
    "    mse = np.sum(np.square(e)).mean()\n",
    "    rmse = np.sqrt(mse)\n",
    "    dy_range = np.max(orig_val)-np.min(orig_val)\n",
    "    nrmse = rmse/dy_range\n",
    "    #if you want to return a float\n",
    "    n = nrmse.to_pandas()\n",
    "    t = n.tolist()\n",
    "    return t\n"
   ]
  },
  {
   "cell_type": "code",
   "execution_count": 145,
   "metadata": {},
   "outputs": [],
   "source": [
    "v = calc_nrmse(orig_ts.isel(time=0), recon_ts.isel(time=0))"
   ]
  },
  {
   "cell_type": "code",
   "execution_count": 146,
   "metadata": {},
   "outputs": [
    {
     "data": {
      "text/plain": [
       "0.17907752867182808"
      ]
     },
     "execution_count": 146,
     "metadata": {},
     "output_type": "execute_result"
    }
   ],
   "source": [
    "v"
   ]
  },
  {
   "cell_type": "code",
   "execution_count": 147,
   "metadata": {},
   "outputs": [],
   "source": [
    "#mean absolute error (not weighted - yet)\n",
    "def calc_mae(orig_val, recon_val): \n",
    "    e = error_d(orig_val, recon_val)\n",
    "    return np.mean(np.abs(e))\n"
   ]
  },
  {
   "cell_type": "code",
   "execution_count": 148,
   "metadata": {},
   "outputs": [
    {
     "data": {
      "text/plain": [
       "<xarray.DataArray 'TS' ()>\n",
       "array(0.05852021)\n",
       "Coordinates:\n",
       "    time     object 1920-01-01 00:00:00"
      ]
     },
     "execution_count": 148,
     "metadata": {},
     "output_type": "execute_result"
    }
   ],
   "source": [
    "calc_mae(orig_ts.isel(time=0), recon_ts.isel(time=0))"
   ]
  },
  {
   "cell_type": "code",
   "execution_count": 153,
   "metadata": {},
   "outputs": [],
   "source": [
    "#mean error\n",
    "def calc_me(orig_val, recon_val): \n",
    "    e = error_d(orig_val, recon_val)\n",
    "    return np.mean(e)"
   ]
  },
  {
   "cell_type": "code",
   "execution_count": 152,
   "metadata": {},
   "outputs": [],
   "source": [
    "#max error\n",
    "def calc_maxerr(orig_val, recon_val): \n",
    "    e = error_d(orig_val, recon_val)\n",
    "    return np.max(e)"
   ]
  },
  {
   "cell_type": "code",
   "execution_count": 155,
   "metadata": {},
   "outputs": [
    {
     "data": {
      "text/plain": [
       "<xarray.DataArray 'TS' ()>\n",
       "array(0.00576729)\n",
       "Coordinates:\n",
       "    time     object 1920-01-01 00:00:00"
      ]
     },
     "execution_count": 155,
     "metadata": {},
     "output_type": "execute_result"
    }
   ],
   "source": [
    "calc_me(orig_ts.isel(time=0), recon_ts.isel(time=0))"
   ]
  },
  {
   "cell_type": "code",
   "execution_count": 156,
   "metadata": {},
   "outputs": [
    {
     "data": {
      "text/plain": [
       "<xarray.DataArray 'TS' ()>\n",
       "array(0.40588379)\n",
       "Coordinates:\n",
       "    time     object 1920-01-01 00:00:00"
      ]
     },
     "execution_count": 156,
     "metadata": {},
     "output_type": "execute_result"
    }
   ],
   "source": [
    "calc_maxerr(orig_ts.isel(time=0), recon_ts.isel(time=0))"
   ]
  },
  {
   "cell_type": "code",
   "execution_count": 160,
   "metadata": {},
   "outputs": [],
   "source": [
    "#visualize mean value at each grid point for orig and compressed (time-series)\n",
    "#def plot_mean_vals(orig_ds, recon_ds, varname)\n",
    "mean_data_o = orig_ts.mean(dim='time')\n",
    "mean_data_c = recon_ts.mean(dim='time')\n",
    "lat_o = orig_ds.lat\n",
    "lat_r = recon_ds.lat\n",
    "cy_data, lon_o = add_cyclic_point(mean_data_o, coord=orig_ds.lon)\n"
   ]
  },
  {
   "cell_type": "code",
   "execution_count": 162,
   "metadata": {},
   "outputs": [],
   "source": [
    "varname = 'TS'\n"
   ]
  },
  {
   "cell_type": "code",
   "execution_count": 163,
   "metadata": {},
   "outputs": [
    {
     "ename": "AttributeError",
     "evalue": "'Dataset' object has no attribute 'varname'",
     "output_type": "error",
     "traceback": [
      "\u001b[0;31m---------------------------------------------------------------------------\u001b[0m",
      "\u001b[0;31mAttributeError\u001b[0m                            Traceback (most recent call last)",
      "\u001b[0;32m<ipython-input-163-79c0fbc1ce7a>\u001b[0m in \u001b[0;36m<module>\u001b[0;34m\u001b[0m\n\u001b[0;32m----> 1\u001b[0;31m \u001b[0morig_ds\u001b[0m\u001b[0;34m.\u001b[0m\u001b[0mvarname\u001b[0m\u001b[0;34m\u001b[0m\u001b[0;34m\u001b[0m\u001b[0m\n\u001b[0m",
      "\u001b[0;32m~/anaconda3/envs/py_ldc/lib/python3.7/site-packages/xarray/core/common.py\u001b[0m in \u001b[0;36m__getattr__\u001b[0;34m(self, name)\u001b[0m\n\u001b[1;32m    228\u001b[0m                     \u001b[0;32mreturn\u001b[0m \u001b[0msource\u001b[0m\u001b[0;34m[\u001b[0m\u001b[0mname\u001b[0m\u001b[0;34m]\u001b[0m\u001b[0;34m\u001b[0m\u001b[0;34m\u001b[0m\u001b[0m\n\u001b[1;32m    229\u001b[0m         raise AttributeError(\n\u001b[0;32m--> 230\u001b[0;31m             \u001b[0;34m\"%r object has no attribute %r\"\u001b[0m \u001b[0;34m%\u001b[0m \u001b[0;34m(\u001b[0m\u001b[0mtype\u001b[0m\u001b[0;34m(\u001b[0m\u001b[0mself\u001b[0m\u001b[0;34m)\u001b[0m\u001b[0;34m.\u001b[0m\u001b[0m__name__\u001b[0m\u001b[0;34m,\u001b[0m \u001b[0mname\u001b[0m\u001b[0;34m)\u001b[0m\u001b[0;34m\u001b[0m\u001b[0;34m\u001b[0m\u001b[0m\n\u001b[0m\u001b[1;32m    231\u001b[0m         )\n\u001b[1;32m    232\u001b[0m \u001b[0;34m\u001b[0m\u001b[0m\n",
      "\u001b[0;31mAttributeError\u001b[0m: 'Dataset' object has no attribute 'varname'"
     ]
    }
   ],
   "source": [
    "orig_ds.varname"
   ]
  },
  {
   "cell_type": "code",
   "execution_count": null,
   "metadata": {},
   "outputs": [],
   "source": []
  },
  {
   "cell_type": "code",
   "execution_count": null,
   "metadata": {},
   "outputs": [],
   "source": []
  }
 ],
 "metadata": {
  "kernelspec": {
   "display_name": "Python [conda env:py_ldc]",
   "language": "python",
   "name": "conda-env-py_ldc-py"
  },
  "language_info": {
   "codemirror_mode": {
    "name": "ipython",
    "version": 3
   },
   "file_extension": ".py",
   "mimetype": "text/x-python",
   "name": "python",
   "nbconvert_exporter": "python",
   "pygments_lexer": "ipython3",
   "version": "3.7.4"
  }
 },
 "nbformat": 4,
 "nbformat_minor": 2
}
